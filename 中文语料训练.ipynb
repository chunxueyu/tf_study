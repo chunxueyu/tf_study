{
 "cells": [
  {
   "cell_type": "code",
   "execution_count": 1,
   "id": "f74cf07a",
   "metadata": {},
   "outputs": [],
   "source": [
    "import jieba\n",
    "import gensim\n",
    "import re\n",
    "import sys\n",
    "from gensim.models import Word2Vec, word2vec\n",
    "from gensim.test.utils import common_texts, get_tmpfile"
   ]
  },
  {
   "cell_type": "code",
   "execution_count": 2,
   "id": "6aa2fb9b",
   "metadata": {},
   "outputs": [],
   "source": [
    "with open(\"./data/text/将夜.txt\", 'rb') as f1:\n",
    "    text1 = f1.read().decode(\"utf-8\").replace(\"\\n\", \"\").replace(\"\\r\", \"\").replace(\" \", \"\")\n",
    "    \n",
    "with open(\"./data/text/庆余年.txt\", 'rb') as f2:\n",
    "    text2 = f2.read().decode(\"gb18030\").replace(\"\\n\", \"\").replace(\"\\r\", \"\").replace(\" \", \"\")\n",
    "    \n",
    "with open(\"./data/text/xiaohuangji50w_nofenci.conv\", encoding='utf-8') as f2:\n",
    "    text3 = f2.read().replace(\"E\", \"\").replace(\"M\", '').replace(\"\\n\", \"\").replace(\" \", \"\")"
   ]
  },
  {
   "cell_type": "code",
   "execution_count": 3,
   "id": "62e9b27a",
   "metadata": {
    "scrolled": true
   },
   "outputs": [
    {
     "data": {
      "text/plain": [
       "(3716844, 3468156, 7336453)"
      ]
     },
     "execution_count": 3,
     "metadata": {},
     "output_type": "execute_result"
    }
   ],
   "source": [
    "len(text1), len(text2), len(text3)"
   ]
  },
  {
   "cell_type": "code",
   "execution_count": 4,
   "id": "5629ebad",
   "metadata": {},
   "outputs": [],
   "source": [
    "p1 = re.compile(r'-\\{.*?(zh-hans|zh-cn):([^;]*?)(;.*?)?\\}-')\n",
    "p2 = re.compile(r'[（\\(][，；。？！\\s]*[）\\)]')\n",
    "p3 = re.compile(r'[「『《》]')\n",
    "p4 = re.compile(r'[」』]')\n",
    "\n",
    "text1 = p1.sub(r'', text1)\n",
    "text1 = p2.sub(r'', text1)\n",
    "text1 = p3.sub(r'', text1)\n",
    "text1 = p4.sub(r'', text1)\n",
    "\n",
    "text2 = p1.sub(r'', text2)\n",
    "text2 = p2.sub(r'', text2)\n",
    "text2 = p3.sub(r'', text2)\n",
    "text2 = p4.sub(r'', text2)\n",
    "\n",
    "text3 = p1.sub(r'', text3)\n",
    "text3 = p2.sub(r'', text3)\n",
    "text3 = p3.sub(r'', text3)\n",
    "text3 = p4.sub(r'', text3)"
   ]
  },
  {
   "cell_type": "code",
   "execution_count": 5,
   "id": "43dd5fa0",
   "metadata": {},
   "outputs": [],
   "source": [
    "text1 = text1[5:10].replace(\"ot\", \"\")"
   ]
  },
  {
   "cell_type": "code",
   "execution_count": 6,
   "id": "c11e8f32",
   "metadata": {},
   "outputs": [],
   "source": [
    "text = text1 + text2 + text3"
   ]
  },
  {
   "cell_type": "code",
   "execution_count": 7,
   "id": "9136a1c7",
   "metadata": {},
   "outputs": [
    {
     "data": {
      "text/plain": [
       "'在很久很久庆余年楔子一块黑布范慎很困难地撑着上眼皮，看着指头算自己这辈子做过些什么有意义的事情，结果右手五根瘦成筷子一样的指头还没有数完，他就叹了一口气，很伤心地放弃了这个工作。病房里的药水味总是这么'"
      ]
     },
     "execution_count": 7,
     "metadata": {},
     "output_type": "execute_result"
    }
   ],
   "source": [
    "text[:100]"
   ]
  },
  {
   "cell_type": "code",
   "execution_count": 8,
   "id": "e36a8506",
   "metadata": {
    "scrolled": true
   },
   "outputs": [
    {
     "name": "stderr",
     "output_type": "stream",
     "text": [
      "Building prefix dict from the default dictionary ...\n",
      "Loading model from cache C:\\Users\\condy\\AppData\\Local\\Temp\\jieba.cache\n",
      "Loading model cost 0.588 seconds.\n",
      "Prefix dict has been built successfully.\n"
     ]
    },
    {
     "data": {
      "text/plain": [
       "'在 很久很久 庆 余年 楔子 一块 黑布 范慎 很 困难 地撑 着 上眼皮 ， 看着 指头 算 自己 这辈子 做 过些 什么 有 意义 的 事情 ， 结果 右手 五根 瘦成 筷子 一样 的 指头 还 '"
      ]
     },
     "execution_count": 8,
     "metadata": {},
     "output_type": "execute_result"
    }
   ],
   "source": [
    "text = jieba.cut(text.strip(), use_paddle=True)\n",
    "result = ' '.join(text)\n",
    "result[:100]"
   ]
  },
  {
   "cell_type": "code",
   "execution_count": 9,
   "id": "f6a2452e",
   "metadata": {
    "scrolled": true
   },
   "outputs": [],
   "source": [
    "with open(\"./data/text/分词后的语料.txt\", 'w', encoding='utf-8') as f:\n",
    "    f.write(result)"
   ]
  },
  {
   "cell_type": "code",
   "execution_count": 10,
   "id": "08a66eb0",
   "metadata": {},
   "outputs": [],
   "source": [
    "# 加载语料\n",
    "sentence = word2vec.LineSentence(\"./data/text/分词后的语料.txt\")\n",
    "# 创建临时文件\n",
    "path = get_tmpfile(\"./word2vec.model\")\n",
    "# 训练语料\n",
    "model = word2vec.Word2Vec(sentence, sg=1, vector_size=300, window=7, epochs=50)"
   ]
  },
  {
   "cell_type": "code",
   "execution_count": 11,
   "id": "acfc06b0",
   "metadata": {},
   "outputs": [
    {
     "name": "stdout",
     "output_type": "stream",
     "text": [
      "('四顾', 0.9432483911514282)\n",
      "('庐', 0.7215650677680969)\n",
      "('云之澜', 0.5456986427307129)\n",
      "('东夷', 0.5138024091720581)\n",
      "('剑庐', 0.4997311234474182)\n",
      "('庐里', 0.4824488162994385)\n",
      "('剑意', 0.4747580587863922)\n",
      "('弟子', 0.47195690870285034)\n",
      "('庆帝', 0.4646362066268921)\n",
      "('范闲', 0.4629773199558258)\n"
     ]
    }
   ],
   "source": [
    "for key in model.wv.similar_by_word(\"剑\", topn=10):\n",
    "    print(key)"
   ]
  },
  {
   "cell_type": "code",
   "execution_count": 12,
   "id": "1c34b6ec",
   "metadata": {},
   "outputs": [
    {
     "data": {
      "text/plain": [
       "0.5518876"
      ]
     },
     "execution_count": 12,
     "metadata": {},
     "output_type": "execute_result"
    }
   ],
   "source": [
    "model.wv.similarity(\"范闲\", \"范建\")"
   ]
  },
  {
   "cell_type": "code",
   "execution_count": 13,
   "id": "e7d98349",
   "metadata": {},
   "outputs": [],
   "source": [
    "model.save(\"./data/word2vec.model\")"
   ]
  },
  {
   "cell_type": "code",
   "execution_count": 14,
   "id": "5ae582a9",
   "metadata": {},
   "outputs": [],
   "source": [
    "model2 = Word2Vec.load(\"./data/word2vec.model\")"
   ]
  },
  {
   "cell_type": "code",
   "execution_count": 15,
   "id": "03643c68",
   "metadata": {},
   "outputs": [
    {
     "data": {
      "text/plain": [
       "0.122686826"
      ]
     },
     "execution_count": 15,
     "metadata": {},
     "output_type": "execute_result"
    }
   ],
   "source": [
    "model2.wv.similarity(\"夫子\", \"剑\")"
   ]
  },
  {
   "cell_type": "code",
   "execution_count": null,
   "id": "bc44c472",
   "metadata": {},
   "outputs": [],
   "source": []
  }
 ],
 "metadata": {
  "kernelspec": {
   "display_name": "tf2",
   "language": "python",
   "name": "tf2"
  },
  "language_info": {
   "codemirror_mode": {
    "name": "ipython",
    "version": 3
   },
   "file_extension": ".py",
   "mimetype": "text/x-python",
   "name": "python",
   "nbconvert_exporter": "python",
   "pygments_lexer": "ipython3",
   "version": "3.8.0"
  }
 },
 "nbformat": 4,
 "nbformat_minor": 5
}
