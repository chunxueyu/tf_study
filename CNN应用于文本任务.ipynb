{
 "cells": [
  {
   "cell_type": "markdown",
   "id": "dcaa8afc",
   "metadata": {},
   "source": [
    "# CNN文本分类实战\n",
    "1、文本数据预处理，必须都是相同长度，相同向量维度\\\n",
    "2、构建卷积模型，注意卷积核大小的设计\\\n",
    "3、将卷积后的特征图池化成一个特征\\\n",
    "4、将多种特征拼接在一起，准备完成分类任务"
   ]
  },
  {
   "cell_type": "code",
   "execution_count": 1,
   "id": "67a5e463",
   "metadata": {},
   "outputs": [
    {
     "name": "stdout",
     "output_type": "stream",
     "text": [
      "(25000,)\n",
      "(25000,)\n",
      "(25000,)\n",
      "(25000,)\n"
     ]
    }
   ],
   "source": [
    "import warnings\n",
    "warnings.filterwarnings('ignore')\n",
    "import numpy as np\n",
    "import matplotlib.pyplot as plt\n",
    "from tensorflow import keras\n",
    "from tensorflow.keras import layers\n",
    "from tensorflow.keras.preprocessing.sequence import pad_sequences\n",
    "\n",
    "num_features = 3000\n",
    "sequence_length = 300\n",
    "embedding_dimension = 100\n",
    "(x_train, y_train), (x_test, y_test) = keras.datasets.imdb.load_data(num_words=num_features)\n",
    "print(x_train.shape)\n",
    "print(x_test.shape)\n",
    "print(y_train.shape)\n",
    "print(y_test.shape)"
   ]
  },
  {
   "cell_type": "code",
   "execution_count": 2,
   "id": "b3291bdf",
   "metadata": {},
   "outputs": [
    {
     "name": "stdout",
     "output_type": "stream",
     "text": [
      "550\n"
     ]
    },
    {
     "data": {
      "text/plain": [
       "[1, 14, 22, 16, 43, 530, 973, 1622, 1385, 65]"
      ]
     },
     "execution_count": 2,
     "metadata": {},
     "output_type": "execute_result"
    }
   ],
   "source": [
    "print(len(x_train[3]))\n",
    "x_train[0][:10]"
   ]
  },
  {
   "cell_type": "code",
   "execution_count": 3,
   "id": "ae38c679",
   "metadata": {},
   "outputs": [
    {
     "name": "stdout",
     "output_type": "stream",
     "text": [
      "(25000, 300)\n",
      "(25000, 300)\n",
      "(25000,)\n",
      "(25000,)\n"
     ]
    }
   ],
   "source": [
    "x_train = pad_sequences(x_train, maxlen=sequence_length)\n",
    "x_test = pad_sequences(x_test, maxlen=sequence_length)\n",
    "print(x_train.shape)\n",
    "print(x_test.shape)\n",
    "print(y_train.shape)\n",
    "print(y_test.shape)"
   ]
  },
  {
   "cell_type": "code",
   "execution_count": 4,
   "id": "c2de8e9e",
   "metadata": {},
   "outputs": [
    {
     "data": {
      "text/plain": [
       "array([   0,    0,    0,    0,    0,    0,    0,    0,    0,    0,    0,\n",
       "          0,    0,    0,    0,    0,    0,    0,    0,    0,    0,    0,\n",
       "          0,    0,    0,    0,    0,    0,    0,    0,    0,    0,    0,\n",
       "          0,    0,    0,    0,    0,    0,    0,    0,    0,    0,    0,\n",
       "          0,    0,    0,    0,    0,    0,    0,    0,    0,    0,    0,\n",
       "          0,    0,    0,    0,    0,    0,    0,    0,    0,    0,    0,\n",
       "          0,    0,    0,    0,    0,    0,    0,    0,    0,    0,    0,\n",
       "          0,    0,    0,    0,    0,    0,    0,    0,    0,    0,    0,\n",
       "          0,    0,    0,    0,    0,    0,    0,    0,    0,    0,    0,\n",
       "          0,    0,    0,    0,    0,    0,    0,    0,    0,    0,    0,\n",
       "          0,    0,    0,    0,    0,    0,    0,    0,    0,    0,    0,\n",
       "          0,    0,    0,    0,    0,    0,    0,    0,    0,    0,    0,\n",
       "          0,    0,    0,    0,    0,    0,    0,    0,    0,    0,    0,\n",
       "          0,    0,    0,    0,    0,    0,    0,    0,    0,    0,    0,\n",
       "          0,    0,    0,    0,    0,    1,   14,   47,    8,   30,   31,\n",
       "          7,    4,  249,  108,    7,    4,    2,   54,   61,  369,   13,\n",
       "         71,  149,   14,   22,  112,    4, 2401,  311,   12,   16,    2,\n",
       "         33,   75,   43, 1829,  296,    4,   86,  320,   35,  534,   19,\n",
       "        263,    2, 1301,    4, 1873,   33,   89,   78,   12,   66,   16,\n",
       "          4,  360,    7,    4,   58,  316,  334,   11,    4, 1716,   43,\n",
       "        645,  662,    8,  257,   85, 1200,   42, 1228, 2578,   83,   68,\n",
       "          2,   15,   36,  165, 1539,  278,   36,   69,    2,  780,    8,\n",
       "        106,   14,    2, 1338,   18,    6,   22,   12,  215,   28,  610,\n",
       "         40,    6,   87,  326,   23, 2300,   21,   23,   22,   12,  272,\n",
       "         40,   57,   31,   11,    4,   22,   47,    6, 2307,   51,    9,\n",
       "        170,   23,  595,  116,  595, 1352,   13,  191,   79,  638,   89,\n",
       "          2,   14,    9,    8,  106,  607,  624,   35,  534,    6,  227,\n",
       "          7,  129,  113])"
      ]
     },
     "execution_count": 4,
     "metadata": {},
     "output_type": "execute_result"
    }
   ],
   "source": [
    "x_train[2]"
   ]
  },
  {
   "cell_type": "code",
   "execution_count": 5,
   "id": "6836df7b",
   "metadata": {},
   "outputs": [
    {
     "name": "stdout",
     "output_type": "stream",
     "text": [
      "Model: \"sequential\"\n",
      "_________________________________________________________________\n",
      " Layer (type)                Output Shape              Param #   \n",
      "=================================================================\n",
      " embedding (Embedding)       (None, 300, 100)          300000    \n",
      "                                                                 \n",
      " reshape (Reshape)           (None, 300, 100, 1)       0         \n",
      "                                                                 \n",
      " model (Functional)          (None, 1, 1, 192)         76992     \n",
      "                                                                 \n",
      " flatten (Flatten)           (None, 192)               0         \n",
      "                                                                 \n",
      " dense (Dense)               (None, 10)                1930      \n",
      "                                                                 \n",
      " dropout (Dropout)           (None, 10)                0         \n",
      "                                                                 \n",
      " dense_1 (Dense)             (None, 1)                 11        \n",
      "                                                                 \n",
      "=================================================================\n",
      "Total params: 378,933\n",
      "Trainable params: 378,933\n",
      "Non-trainable params: 0\n",
      "_________________________________________________________________\n"
     ]
    }
   ],
   "source": [
    "# 多种卷积核，相当于单词数\n",
    "filter_sizes = [3, 4, 5]\n",
    "def convolution():\n",
    "    inn = layers.Input(shape=(sequence_length, embedding_dimension, 1))     # 输入是3维的\n",
    "    cnns = []\n",
    "    for size in filter_sizes:\n",
    "        conv = layers.Conv2D(filters=64, kernel_size=(size, embedding_dimension),\n",
    "                             strides=1, padding='valid', activation='relu')(inn)\n",
    "        \n",
    "        # 需要将多种卷积后的特征图池化成一个特征,300-3\n",
    "        pool = layers.MaxPool2D(pool_size=(sequence_length-size+1, 1), padding='valid')(conv)\n",
    "        cnns.append(pool)\n",
    "        \n",
    "    # 将得到的特征拼接在一起\n",
    "    outt = layers.concatenate(cnns)\n",
    "    \n",
    "    model = keras.Model(inputs=inn, outputs=outt)\n",
    "    return model\n",
    "\n",
    "def cnn_mulfilter():\n",
    "    model = keras.Sequential([\n",
    "        layers.Embedding(input_dim=num_features, output_dim=embedding_dimension,\n",
    "                         input_length=sequence_length),\n",
    "        # 先转成3维的\n",
    "        layers.Reshape((sequence_length, embedding_dimension, 1)),\n",
    "        convolution(),\n",
    "        layers.Flatten(),\n",
    "        layers.Dense(10, activation='relu'),\n",
    "        layers.Dropout(0.2),\n",
    "        layers.Dense(1, activation='sigmoid')\n",
    "    ])\n",
    "    \n",
    "    model.compile(optimizer=keras.optimizers.Adam(),\n",
    "                  loss=keras.losses.BinaryCrossentropy(),\n",
    "                  metrics=['accuracy'])\n",
    "    return model\n",
    "\n",
    "model = cnn_mulfilter()\n",
    "model.summary()"
   ]
  },
  {
   "cell_type": "code",
   "execution_count": 6,
   "id": "bbbf7874",
   "metadata": {
    "scrolled": true
   },
   "outputs": [
    {
     "name": "stdout",
     "output_type": "stream",
     "text": [
      "Epoch 1/10\n",
      "352/352 [==============================] - 64s 179ms/step - loss: 0.4795 - accuracy: 0.7589 - val_loss: 0.3222 - val_accuracy: 0.8688\n",
      "Epoch 2/10\n",
      "352/352 [==============================] - 64s 181ms/step - loss: 0.2937 - accuracy: 0.8950 - val_loss: 0.2784 - val_accuracy: 0.8908\n",
      "Epoch 3/10\n",
      "352/352 [==============================] - 65s 184ms/step - loss: 0.2243 - accuracy: 0.9297 - val_loss: 0.2717 - val_accuracy: 0.8904\n",
      "Epoch 4/10\n",
      "352/352 [==============================] - 67s 191ms/step - loss: 0.1642 - accuracy: 0.9536 - val_loss: 0.2979 - val_accuracy: 0.8880\n",
      "Epoch 5/10\n",
      "352/352 [==============================] - 67s 190ms/step - loss: 0.1138 - accuracy: 0.9742 - val_loss: 0.3241 - val_accuracy: 0.8852\n",
      "Epoch 6/10\n",
      "352/352 [==============================] - 67s 189ms/step - loss: 0.0753 - accuracy: 0.9876 - val_loss: 0.3782 - val_accuracy: 0.8928\n",
      "Epoch 7/10\n",
      "352/352 [==============================] - 67s 190ms/step - loss: 0.0544 - accuracy: 0.9918 - val_loss: 0.4102 - val_accuracy: 0.8904\n",
      "Epoch 8/10\n",
      "352/352 [==============================] - 65s 184ms/step - loss: 0.0401 - accuracy: 0.9952 - val_loss: 0.4609 - val_accuracy: 0.8888\n",
      "Epoch 9/10\n",
      "352/352 [==============================] - 66s 187ms/step - loss: 0.0307 - accuracy: 0.9963 - val_loss: 0.5256 - val_accuracy: 0.8788\n",
      "Epoch 10/10\n",
      "352/352 [==============================] - 66s 187ms/step - loss: 0.0257 - accuracy: 0.9976 - val_loss: 0.6012 - val_accuracy: 0.8808\n"
     ]
    }
   ],
   "source": [
    "history = model.fit(x_train, y_train, batch_size=64, epochs=10, validation_split=0.1)"
   ]
  },
  {
   "cell_type": "code",
   "execution_count": 7,
   "id": "c524a657",
   "metadata": {},
   "outputs": [
    {
     "data": {
      "image/png": "[encoded data removed]",
      "text/plain": [
       "<Figure size 640x480 with 1 Axes>"
      ]
     },
     "metadata": {},
     "output_type": "display_data"
    }
   ],
   "source": [
    "plt.plot(history.history['accuracy'])\n",
    "plt.plot(history.history['val_accuracy'])\n",
    "plt.legend(['training', 'validation'], loc='upper left')\n",
    "plt.show()"
   ]
  },
  {
   "cell_type": "code",
   "execution_count": 8,
   "id": "ab98935b",
   "metadata": {},
   "outputs": [
    {
     "name": "stdout",
     "output_type": "stream",
     "text": [
      "782/782 [==============================] - 13s 17ms/step - loss: 0.6044 - accuracy: 0.8797\n"
     ]
    },
    {
     "data": {
      "text/plain": [
       "[0.6044411659240723, 0.8796799778938293]"
      ]
     },
     "execution_count": 8,
     "metadata": {},
     "output_type": "execute_result"
    }
   ],
   "source": [
    "model.evaluate(x_test, y_test)"
   ]
  },
  {
   "cell_type": "code",
   "execution_count": null,
   "id": "a9d3ac8e",
   "metadata": {},
   "outputs": [],
   "source": []
  }
 ],
 "metadata": {
  "kernelspec": {
   "display_name": "tf2",
   "language": "python",
   "name": "tf2"
  },
  "language_info": {
   "codemirror_mode": {
    "name": "ipython",
    "version": 3
   },
   "file_extension": ".py",
   "mimetype": "text/x-python",
   "name": "python",
   "nbconvert_exporter": "python",
   "pygments_lexer": "ipython3",
   "version": "3.8.0"
  }
 },
 "nbformat": 4,
 "nbformat_minor": 5
}
