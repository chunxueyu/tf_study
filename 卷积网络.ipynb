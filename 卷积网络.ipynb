{
 "cells": [
  {
   "cell_type": "markdown",
   "metadata": {},
   "source": [
    "卷积进行特征提取，得到特征值\n",
    "\n",
    "滑动窗口步长，一般为1\n",
    "\n",
    "卷积核尺寸，3*3\n",
    "\n",
    "边缘填充，为了边界点能够像中间点一样被多次计算，在最外边加一圈或多圈0\n",
    "\n",
    "卷积核个数，最后得到的特征图个数\n",
    "\n",
    "卷积计算公式：\n",
    "长度：H2 = (H1 -FH + 2P) / S + 1\n",
    "宽度：W2 = (W1 - FW + 2P) / S + 1\n",
    "其中W1、H1表示输入的宽度、长度；W2、H2表示输出特征图的长度宽度\n",
    "F表示卷积核长和宽的大小；S表示滑动窗口的步长；P表示边界填充（加几圈）"
   ]
  },
  {
   "cell_type": "code",
   "execution_count": null,
   "metadata": {},
   "outputs": [],
   "source": [
    "池化层做压缩\n",
    "max pooling 选择不同区域，取最大值，神经网络值越大越重要\n",
    "erery pooling  平均每个区域的值，一般不用"
   ]
  },
  {
   "cell_type": "code",
   "execution_count": null,
   "metadata": {},
   "outputs": [],
   "source": [
    "带参数计算的才是一层神经网络，卷积、全连接是，激活、pool不是"
   ]
  },
  {
   "cell_type": "code",
   "execution_count": null,
   "metadata": {},
   "outputs": [],
   "source": [
    "# 卷积结构\n",
    "conv、relu、conv、relu、pool、\n",
    "conv、relu、conv、relu、pool、\n",
    "conv、relu、conv、relu、pool、\n",
    "(拉长特征网络)\n",
    "FC(全连接)"
   ]
  },
  {
   "cell_type": "code",
   "execution_count": null,
   "metadata": {},
   "outputs": [],
   "source": [
    "# AlexNet,问题挺多\n",
    "FC1000\n",
    "fc4096/ReLU\n",
    "fc4096/ReLU\n",
    "MaxPool 3*3s2\n",
    "Conv 3*3s1, 256/ReLU\n",
    "Conv 3*3s1, 384/ReLU\n",
    "Conv 3*3s1, 384/ReLU\n",
    "MaxPool 3*3s2\n",
    "Local Respnse Norm\n",
    "Conv 5*5s1, 256/ReLU\n",
    "MaxPool 3*3s2\n",
    "Local Respnse Norm\n",
    "Conv 11*11s4, 96/ReLU"
   ]
  },
  {
   "cell_type": "code",
   "execution_count": null,
   "metadata": {},
   "outputs": [],
   "source": [
    "# VGG，所有网络都是3，层数16/19\n",
    "conv3-64、conv3-64、MaxPool、\n",
    "conv3-128、conv3-128、MaxPool、\n",
    "conv3-256、conv3-256、conv3-256、MaxPool、\n",
    "conv3-512、conv3-512、conv3-512、MaxPool、\n",
    "conv3-512、conv3-512、conv3-512、MaxPool、\n",
    "FC-4096、\n",
    "FC-4096、\n",
    "FC-1000、\n",
    "soft-max"
   ]
  },
  {
   "cell_type": "code",
   "execution_count": null,
   "metadata": {},
   "outputs": [],
   "source": [
    "# ResNet\n",
    "有个残差，可以加深网络结构，如果那层网络效果并不好，那层参数设为0，即不用那层网络"
   ]
  },
  {
   "cell_type": "code",
   "execution_count": null,
   "metadata": {},
   "outputs": [],
   "source": [
    "# 感受野 由后面的值确定前面是几*几"
   ]
  }
 ],
 "metadata": {
  "kernelspec": {
   "display_name": "tf",
   "language": "python",
   "name": "tf"
  },
  "language_info": {
   "codemirror_mode": {
    "name": "ipython",
    "version": 3
   },
   "file_extension": ".py",
   "mimetype": "text/x-python",
   "name": "python",
   "nbconvert_exporter": "python",
   "pygments_lexer": "ipython3",
   "version": "3.8.3"
  }
 },
 "nbformat": 4,
 "nbformat_minor": 4
}
