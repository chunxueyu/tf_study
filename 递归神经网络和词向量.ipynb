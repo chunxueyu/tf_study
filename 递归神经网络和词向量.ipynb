{
 "cells": [
  {
   "cell_type": "markdown",
   "metadata": {},
   "source": [
    "# RNN\n",
    "前一个时刻训练出的特征，也会对后一个时刻的特征产生影响\\\n",
    "会把前一层训练出来的结果参与下一层的运算"
   ]
  },
  {
   "cell_type": "markdown",
   "metadata": {},
   "source": [
    "# LSTM\n",
    "RNN网络会把之前的结果都记下来，可能因为记忆太多导致记忆的不精，产生一些错误\\\n",
    "LSTM会有一个控制参数C决定什么结果保留下来，什么会被遗忘\\\n",
    "公式：it = σ(Wi*[ht-1, xt] + bi)\\\n",
    "      Ct = tanh(Wc*[ht-1, xt] + bc)\\\n",
    "it要保留下来的新信息\n",
    "Ct新数据形成的控制参数"
   ]
  },
  {
   "cell_type": "markdown",
   "metadata": {},
   "source": [
    "# 词向量\n",
    "通常，数据的维度越高，能提供的信息也就越多，从而计算结果可靠性越高，推荐向量长度50-300\\\n",
    "在机器学习和自然语言处理中，embedding是指将高维度的数据（例如文字、图片、音频）映射到低维度空间的过程。embedding向量通常是一个由实数构成的向量，它将输入的数据表示成一个连续的数值空间中的点。\\\n",
    "embedding look up 即在词库中找到当前词对应的词向量"
   ]
  },
  {
   "cell_type": "markdown",
   "metadata": {},
   "source": [
    "# CBOW和Skip-gram\n",
    "CBOW用上下文的词预测中间那个词\\\n",
    "Skip-gram用中间那个词预测上下文的词\\\n",
    "训练的时候既要更新权重参数wi也要更新输入数据"
   ]
  },
  {
   "cell_type": "markdown",
   "metadata": {},
   "source": [
    "如果语料库太大，结果太多，最后一层变成softmax，计算会十分耗时。\\\n",
    "初始方案：输入两个单词，看他们是不是前后对应的输入和输出，也就相当于一个二分类任务。\\\n",
    "但是此时训练集构建出的标签全为1，无法进行更好的训练。\\\n",
    "改进方案：加入一些负样本（负采样模型）\\\n",
    "一个样本的负采样个数默认5个"
   ]
  },
  {
   "cell_type": "markdown",
   "metadata": {},
   "source": [
    "# 词向量的训练过程\n",
    "1、初始化词向量矩阵（embedding、contexxt）\\\n",
    "2、通过神经网络返回传播来计算更新，此时不光更新权重参数W，也会更新输入数据"
   ]
  },
  {
   "cell_type": "code",
   "execution_count": null,
   "metadata": {},
   "outputs": [],
   "source": []
  }
 ],
 "metadata": {
  "kernelspec": {
   "display_name": "tf",
   "language": "python",
   "name": "tf"
  },
  "language_info": {
   "codemirror_mode": {
    "name": "ipython",
    "version": 3
   },
   "file_extension": ".py",
   "mimetype": "text/x-python",
   "name": "python",
   "nbconvert_exporter": "python",
   "pygments_lexer": "ipython3",
   "version": "3.9.16"
  }
 },
 "nbformat": 4,
 "nbformat_minor": 4
}
