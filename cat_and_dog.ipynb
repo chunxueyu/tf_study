{
 "cells": [
  {
   "cell_type": "markdown",
   "id": "3ce62608",
   "metadata": {},
   "source": [
    "# 猫狗识别\n",
    "数据预处理：图像数据处理，准备训练和验证数据集\n",
    "\n",
    "卷积网络模型：郭建网络架构\n",
    "\n",
    "过拟合问题：观察训练和验证效果，针对你和问题提出解决方法\n",
    "\n",
    "数据增强：图像数据增强方法与效果\n",
    "\n",
    "迁移学习：深度学习必备训练策略"
   ]
  },
  {
   "cell_type": "code",
   "execution_count": 1,
   "id": "cfeb3518",
   "metadata": {},
   "outputs": [],
   "source": [
    "import os\n",
    "import shutil\n",
    "from shutil import copyfile\n",
    "import random\n",
    "import warnings\n",
    "warnings.filterwarnings(\"ignore\")\n",
    "import tensorflow as tf\n",
    "from tensorflow.keras.optimizers import Adam\n",
    "from tensorflow.keras.preprocessing.image import ImageDataGenerator"
   ]
  },
  {
   "cell_type": "code",
   "execution_count": 2,
   "id": "6db8eabb",
   "metadata": {},
   "outputs": [],
   "source": [
    "# 创建文件夹\n",
    "try:\n",
    "    os.mkdir('./data/PetImages/training')\n",
    "    os.mkdir('./data/PetImages/testing')\n",
    "    os.mkdir('./data/PetImages/training/cats')\n",
    "    os.mkdir('./data/PetImages/training/dogs')\n",
    "    os.mkdir('./data/PetImages/testing/cats')\n",
    "    os.mkdir('./data/PetImages/testing/dogs')\n",
    "except OSError:\n",
    "    pass"
   ]
  },
  {
   "cell_type": "code",
   "execution_count": 3,
   "id": "48e50cf3",
   "metadata": {},
   "outputs": [],
   "source": [
    "# 分割猫、狗的训练集和测试集\n",
    "def split_data(SOURCE, TRAINING, TESTING, SPLIT_SIZE): # 跳过0长度的文件\n",
    "    files = []\n",
    "    for filename in os.listdir(SOURCE):\n",
    "        file = SOURCE + filename\n",
    "        if os.path.getsize(file) > 0:\n",
    "            files.append(filename)\n",
    "        else:\n",
    "            print(filename + \" is zero length, so ignoring.\")\n",
    "\n",
    "    training_length = int(len(files) * SPLIT_SIZE)\n",
    "    testing_length = int(len(files) - training_length)\n",
    "    shuffled_set = random.sample(files, len(files))\n",
    "    training_set = shuffled_set[0:training_length]\n",
    "    testing_set = shuffled_set[-testing_length:]\n",
    "\n",
    "    for filename in training_set:\n",
    "        this_file = SOURCE + filename\n",
    "        destination = TRAINING + filename\n",
    "        copyfile(this_file, destination)\n",
    "\n",
    "    for filename in testing_set:\n",
    "        this_file = SOURCE + filename\n",
    "        destination = TESTING + filename\n",
    "        copyfile(this_file, destination)\n",
    "\n",
    "\n",
    "CAT_SOURCE_DIR = \"./data/PetImages/Cat/\"\n",
    "TRAINING_CATS_DIR = \"./data/PetImages/training/cats/\"\n",
    "TESTING_CATS_DIR = \"./data/PetImages/testing/cats/\"\n",
    "DOG_SOURCE_DIR = \"./data/PetImages/Dog/\"\n",
    "TRAINING_DOGS_DIR = \"./data/PetImages/training/dogs/\"\n",
    "TESTING_DOGS_DIR = \"./data/PetImages/testing/dogs/\"\n",
    "\n",
    "def create_dir(file_dir):\n",
    "    if os.path.exists(file_dir):\n",
    "        print('true')\n",
    "        shutil.rmtree(file_dir) # 删除再建立\n",
    "        os.makedirs(file_dir)\n",
    "    else:\n",
    "        os.makedirs(file_dir)\n",
    "\n",
    "# create_dir(TRAINING_CATS_DIR)\n",
    "# create_dir(TESTING_CATS_DIR)\n",
    "# create_dir(TRAINING_DOGS_DIR)\n",
    "# create_dir(TESTING_CATS_DIR)\n",
    "\n",
    "# split_size = .9\n",
    "# split_data(CAT_SOURCE_DIR, TRAINING_CATS_DIR, TESTING_CATS_DIR, split_size)\n",
    "# split_data(DOG_SOURCE_DIR, TRAINING_DOGS_DIR, TESTING_DOGS_DIR, split_size)"
   ]
  },
  {
   "cell_type": "code",
   "execution_count": 4,
   "id": "86a02e45",
   "metadata": {},
   "outputs": [
    {
     "name": "stdout",
     "output_type": "stream",
     "text": [
      "11250\n",
      "11250\n",
      "1250\n",
      "1250\n"
     ]
    }
   ],
   "source": [
    "# 打印各个文件夹里的文件个数\n",
    "print(len(os.listdir('./data/PetImages/training/cats')))\n",
    "print(len(os.listdir('./data/PetImages/training/dogs')))\n",
    "print(len(os.listdir('./data/PetImages/testing/cats')))\n",
    "print(len(os.listdir('./data/PetImages/testing/dogs')))"
   ]
  },
  {
   "cell_type": "code",
   "execution_count": 5,
   "id": "a97a773f",
   "metadata": {},
   "outputs": [],
   "source": [
    "base_dir = \"./data/PetImages/\"\n",
    "\n",
    "train_dir = os.path.join(base_dir, 'training')\n",
    "test_dir = os.path.join(base_dir, 'testing')\n",
    "\n",
    "# 训练集\n",
    "train_dogs = os.path.join(base_dir, 'training/dogs')\n",
    "train_cats = os.path.join(base_dir, 'training/cats')\n",
    "\n",
    "# 测试集\n",
    "test_dogs = os.path.join(base_dir, 'testing/dogs')\n",
    "test_cats = os.path.join(base_dir, 'testing/cats')"
   ]
  },
  {
   "cell_type": "markdown",
   "id": "37a5c58d",
   "metadata": {},
   "source": [
    "# 构建卷积神经网络\n",
    "测试阶段几层网络都可以\n",
    "\n",
    "CPU训练，输入设置可以设置更小，一般输入的大小更主要的决定了训练速度"
   ]
  },
  {
   "cell_type": "code",
   "execution_count": 6,
   "id": "2b8db0a8",
   "metadata": {},
   "outputs": [],
   "source": [
    "model = tf.keras.models.Sequential([\n",
    "    # 如果训练慢，可以数据设置的更小一些\n",
    "    # 得到filter32个特征图，卷积核3*3，默认激活层直接加relu，input_data输入大小\n",
    "    tf.keras.layers.Conv2D(32, (3, 3), activation='relu', input_shape=(64, 64, 3)),\n",
    "    # 池化层一般都是2*2，基本不改\n",
    "    tf.keras.layers.MaxPooling2D(2, 2),\n",
    "    \n",
    "    tf.keras.layers.Conv2D(64, (3, 3), activation='relu'),\n",
    "    tf.keras.layers.MaxPooling2D(2, 2),\n",
    "    \n",
    "    tf.keras.layers.Conv2D(128, (3, 3), activation='relu'),\n",
    "    tf.keras.layers.MaxPooling2D(2, 2),\n",
    "    \n",
    "    # 为全连接层做准备\n",
    "    tf.keras.layers.Flatten(),\n",
    "    \n",
    "    tf.keras.layers.Dense(512, activation='relu'),\n",
    "    # 二分类digmoid就够了，输出0-1之间的概率值\n",
    "    tf.keras.layers.Dense(1, activation='sigmoid')\n",
    "])"
   ]
  },
  {
   "cell_type": "code",
   "execution_count": 7,
   "id": "7440434d",
   "metadata": {},
   "outputs": [
    {
     "name": "stdout",
     "output_type": "stream",
     "text": [
      "Model: \"sequential\"\n",
      "_________________________________________________________________\n",
      " Layer (type)                Output Shape              Param #   \n",
      "=================================================================\n",
      " conv2d (Conv2D)             (None, 62, 62, 32)        896       \n",
      "                                                                 \n",
      " max_pooling2d (MaxPooling2D  (None, 31, 31, 32)       0         \n",
      " )                                                               \n",
      "                                                                 \n",
      " conv2d_1 (Conv2D)           (None, 29, 29, 64)        18496     \n",
      "                                                                 \n",
      " max_pooling2d_1 (MaxPooling  (None, 14, 14, 64)       0         \n",
      " 2D)                                                             \n",
      "                                                                 \n",
      " conv2d_2 (Conv2D)           (None, 12, 12, 128)       73856     \n",
      "                                                                 \n",
      " max_pooling2d_2 (MaxPooling  (None, 6, 6, 128)        0         \n",
      " 2D)                                                             \n",
      "                                                                 \n",
      " flatten (Flatten)           (None, 4608)              0         \n",
      "                                                                 \n",
      " dense (Dense)               (None, 512)               2359808   \n",
      "                                                                 \n",
      " dense_1 (Dense)             (None, 1)                 513       \n",
      "                                                                 \n",
      "=================================================================\n",
      "Total params: 2,453,569\n",
      "Trainable params: 2,453,569\n",
      "Non-trainable params: 0\n",
      "_________________________________________________________________\n"
     ]
    }
   ],
   "source": [
    "model.summary()\n",
    "# 62 = (64 - 3) / 1 + 1, 32是输出个数， 896=3*3卷积核*3通道*32个卷积核+32即b值\n",
    "# 池化层没权重参数，h，w变一半，个数不变\n",
    "# 全连接层参数大，更容易过拟合"
   ]
  },
  {
   "cell_type": "markdown",
   "id": "ca5d35e3",
   "metadata": {},
   "source": [
    "配置训练器"
   ]
  },
  {
   "cell_type": "code",
   "execution_count": 12,
   "id": "408cd19f",
   "metadata": {},
   "outputs": [
    {
     "name": "stderr",
     "output_type": "stream",
     "text": [
      "WARNING:absl:`lr` is deprecated, please use `learning_rate` instead, or use the legacy optimizer, e.g.,tf.keras.optimizers.legacy.Adam.\n"
     ]
    }
   ],
   "source": [
    "model.compile(loss='binary_crossentropy',\n",
    "              optimizer=Adam(lr=1e-4),\n",
    "              metrics=['accuracy']\n",
    "            )"
   ]
  },
  {
   "cell_type": "code",
   "execution_count": 13,
   "id": "f6b3e2fc",
   "metadata": {},
   "outputs": [],
   "source": [
    "train_datagen = ImageDataGenerator(rescale=1./255)\n",
    "test_datagen = ImageDataGenerator(rescale=1./255)"
   ]
  },
  {
   "cell_type": "code",
   "execution_count": 14,
   "id": "6bc361c6",
   "metadata": {},
   "outputs": [
    {
     "name": "stdout",
     "output_type": "stream",
     "text": [
      "Found 22498 images belonging to 2 classes.\n",
      "Found 2500 images belonging to 2 classes.\n"
     ]
    }
   ],
   "source": [
    "train_generator = train_datagen.flow_from_directory(\n",
    "    train_dir, # 文件夹路径\n",
    "    target_size=(64, 64), # 指定resize层的大小\n",
    "    batch_size=20,\n",
    "    # 如果one_hot就是categorical，二分类用binary就可以\n",
    "    class_mode='binary'\n",
    ")\n",
    "test_generator = test_datagen.flow_from_directory(\n",
    "    test_dir, # 文件夹路径\n",
    "    target_size=(64, 64), # 指定resize层的大小\n",
    "    batch_size=20,\n",
    "    # 如果one_hot就是categorical，二分类用binary就可以\n",
    "    class_mode='binary'\n",
    ")"
   ]
  },
  {
   "cell_type": "markdown",
   "id": "516225ec",
   "metadata": {},
   "source": [
    "# 训练网络模型\n",
    "\n",
    "直接fit也可以，但是通常咱们不能把所有数据全部放入内存，fit_generator相当于一个生成器，动态产生所需的batch数据\n",
    "\n",
    "steps_per_epoch相当给定一个停止条件，因为生成器会不断产生batch数据，说白了就是不知道一个epoch不知道执行多少次step"
   ]
  },
  {
   "cell_type": "code",
   "execution_count": 15,
   "id": "b5a02433",
   "metadata": {
    "scrolled": true
   },
   "outputs": [
    {
     "name": "stdout",
     "output_type": "stream",
     "text": [
      "Epoch 1/50\n",
      "200/200 - 34s - loss: 0.6894 - accuracy: 0.5397 - val_loss: 0.6630 - val_accuracy: 0.6140 - 34s/epoch - 172ms/step\n",
      "Epoch 2/50\n",
      "200/200 - 28s - loss: 0.6446 - accuracy: 0.6273 - val_loss: 0.6065 - val_accuracy: 0.6885 - 28s/epoch - 140ms/step\n",
      "Epoch 3/50\n",
      "200/200 - 26s - loss: 0.6044 - accuracy: 0.6700 - val_loss: 0.5809 - val_accuracy: 0.6900 - 26s/epoch - 132ms/step\n",
      "Epoch 4/50\n",
      "200/200 - 25s - loss: 0.5746 - accuracy: 0.6980 - val_loss: 0.5220 - val_accuracy: 0.7485 - 25s/epoch - 127ms/step\n",
      "Epoch 5/50\n",
      "200/200 - 24s - loss: 0.5347 - accuracy: 0.7253 - val_loss: 0.5485 - val_accuracy: 0.7175 - 24s/epoch - 119ms/step\n",
      "Epoch 6/50\n",
      "200/200 - 25s - loss: 0.4911 - accuracy: 0.7620 - val_loss: 0.4858 - val_accuracy: 0.7790 - 25s/epoch - 125ms/step\n",
      "Epoch 7/50\n",
      "200/200 - 30s - loss: 0.4955 - accuracy: 0.7638 - val_loss: 0.5088 - val_accuracy: 0.7580 - 30s/epoch - 150ms/step\n",
      "Epoch 8/50\n",
      "200/200 - 28s - loss: 0.4671 - accuracy: 0.7785 - val_loss: 0.4371 - val_accuracy: 0.8000 - 28s/epoch - 141ms/step\n",
      "Epoch 9/50\n",
      "200/200 - 28s - loss: 0.4269 - accuracy: 0.8012 - val_loss: 0.4314 - val_accuracy: 0.7975 - 28s/epoch - 139ms/step\n",
      "Epoch 10/50\n",
      "200/200 - 28s - loss: 0.4079 - accuracy: 0.8142 - val_loss: 0.4180 - val_accuracy: 0.8105 - 28s/epoch - 139ms/step\n",
      "Epoch 11/50\n",
      "200/200 - 25s - loss: 0.4135 - accuracy: 0.8173 - val_loss: 0.4176 - val_accuracy: 0.8055 - 25s/epoch - 125ms/step\n",
      "Epoch 12/50\n",
      "200/200 - 24s - loss: 0.3925 - accuracy: 0.8210 - val_loss: 0.3991 - val_accuracy: 0.8180 - 24s/epoch - 122ms/step\n",
      "Epoch 13/50\n",
      "200/200 - 25s - loss: 0.3808 - accuracy: 0.8338 - val_loss: 0.4031 - val_accuracy: 0.8180 - 25s/epoch - 124ms/step\n",
      "Epoch 14/50\n",
      "200/200 - 25s - loss: 0.3667 - accuracy: 0.8365 - val_loss: 0.4321 - val_accuracy: 0.8020 - 25s/epoch - 126ms/step\n",
      "Epoch 15/50\n",
      "200/200 - 25s - loss: 0.3662 - accuracy: 0.8367 - val_loss: 0.4029 - val_accuracy: 0.8265 - 25s/epoch - 124ms/step\n",
      "Epoch 16/50\n",
      "200/200 - 25s - loss: 0.3522 - accuracy: 0.8503 - val_loss: 0.3891 - val_accuracy: 0.8320 - 25s/epoch - 123ms/step\n",
      "Epoch 17/50\n",
      "200/200 - 24s - loss: 0.3318 - accuracy: 0.8560 - val_loss: 0.3980 - val_accuracy: 0.8315 - 24s/epoch - 121ms/step\n",
      "Epoch 18/50\n",
      "200/200 - 24s - loss: 0.3405 - accuracy: 0.8505 - val_loss: 0.3740 - val_accuracy: 0.8435 - 24s/epoch - 121ms/step\n",
      "Epoch 19/50\n",
      "200/200 - 24s - loss: 0.3036 - accuracy: 0.8645 - val_loss: 0.4073 - val_accuracy: 0.8180 - 24s/epoch - 121ms/step\n",
      "Epoch 20/50\n",
      "200/200 - 25s - loss: 0.3007 - accuracy: 0.8717 - val_loss: 0.3939 - val_accuracy: 0.8315 - 25s/epoch - 123ms/step\n",
      "Epoch 21/50\n",
      "200/200 - 25s - loss: 0.2892 - accuracy: 0.8824 - val_loss: 0.3798 - val_accuracy: 0.8380 - 25s/epoch - 125ms/step\n",
      "Epoch 22/50\n",
      "200/200 - 25s - loss: 0.2820 - accuracy: 0.8825 - val_loss: 0.4287 - val_accuracy: 0.8115 - 25s/epoch - 124ms/step\n",
      "Epoch 23/50\n",
      "200/200 - 25s - loss: 0.2734 - accuracy: 0.8823 - val_loss: 0.3602 - val_accuracy: 0.8460 - 25s/epoch - 126ms/step\n",
      "Epoch 24/50\n",
      "200/200 - 25s - loss: 0.2745 - accuracy: 0.8810 - val_loss: 0.3819 - val_accuracy: 0.8485 - 25s/epoch - 126ms/step\n",
      "Epoch 25/50\n",
      "200/200 - 25s - loss: 0.2296 - accuracy: 0.9082 - val_loss: 0.3909 - val_accuracy: 0.8320 - 25s/epoch - 125ms/step\n",
      "Epoch 26/50\n",
      "200/200 - 25s - loss: 0.2311 - accuracy: 0.9030 - val_loss: 0.4111 - val_accuracy: 0.8235 - 25s/epoch - 124ms/step\n",
      "Epoch 27/50\n",
      "200/200 - 25s - loss: 0.2352 - accuracy: 0.9055 - val_loss: 0.3917 - val_accuracy: 0.8425 - 25s/epoch - 125ms/step\n",
      "Epoch 28/50\n",
      "200/200 - 25s - loss: 0.2248 - accuracy: 0.9100 - val_loss: 0.3776 - val_accuracy: 0.8415 - 25s/epoch - 125ms/step\n",
      "Epoch 29/50\n",
      "200/200 - 25s - loss: 0.2075 - accuracy: 0.9120 - val_loss: 0.3768 - val_accuracy: 0.8600 - 25s/epoch - 125ms/step\n",
      "Epoch 30/50\n",
      "200/200 - 25s - loss: 0.1975 - accuracy: 0.9243 - val_loss: 0.4032 - val_accuracy: 0.8450 - 25s/epoch - 124ms/step\n",
      "Epoch 31/50\n",
      "200/200 - 25s - loss: 0.1837 - accuracy: 0.9237 - val_loss: 0.4175 - val_accuracy: 0.8355 - 25s/epoch - 124ms/step\n",
      "Epoch 32/50\n",
      "200/200 - 25s - loss: 0.1891 - accuracy: 0.9240 - val_loss: 0.3796 - val_accuracy: 0.8515 - 25s/epoch - 123ms/step\n",
      "Epoch 33/50\n",
      "200/200 - 25s - loss: 0.1723 - accuracy: 0.9340 - val_loss: 0.4219 - val_accuracy: 0.8415 - 25s/epoch - 123ms/step\n",
      "Epoch 34/50\n",
      "200/200 - 25s - loss: 0.1731 - accuracy: 0.9293 - val_loss: 0.4094 - val_accuracy: 0.8475 - 25s/epoch - 124ms/step\n",
      "Epoch 35/50\n",
      "200/200 - 25s - loss: 0.1664 - accuracy: 0.9392 - val_loss: 0.3834 - val_accuracy: 0.8545 - 25s/epoch - 123ms/step\n",
      "Epoch 36/50\n",
      "200/200 - 25s - loss: 0.1490 - accuracy: 0.9452 - val_loss: 0.4060 - val_accuracy: 0.8475 - 25s/epoch - 123ms/step\n",
      "Epoch 37/50\n",
      "200/200 - 22s - loss: 0.1397 - accuracy: 0.9520 - val_loss: 0.4394 - val_accuracy: 0.8375 - 22s/epoch - 112ms/step\n",
      "Epoch 38/50\n",
      "200/200 - 21s - loss: 0.1309 - accuracy: 0.9495 - val_loss: 0.4549 - val_accuracy: 0.8475 - 21s/epoch - 103ms/step\n",
      "Epoch 39/50\n",
      "200/200 - 21s - loss: 0.1313 - accuracy: 0.9515 - val_loss: 0.4757 - val_accuracy: 0.8350 - 21s/epoch - 104ms/step\n",
      "Epoch 40/50\n",
      "200/200 - 21s - loss: 0.1139 - accuracy: 0.9580 - val_loss: 0.4859 - val_accuracy: 0.8485 - 21s/epoch - 104ms/step\n",
      "Epoch 41/50\n",
      "200/200 - 21s - loss: 0.1037 - accuracy: 0.9617 - val_loss: 0.5081 - val_accuracy: 0.8310 - 21s/epoch - 104ms/step\n",
      "Epoch 42/50\n",
      "200/200 - 21s - loss: 0.1212 - accuracy: 0.9557 - val_loss: 0.5393 - val_accuracy: 0.8350 - 21s/epoch - 104ms/step\n",
      "Epoch 43/50\n",
      "200/200 - 20s - loss: 0.0914 - accuracy: 0.9690 - val_loss: 0.4783 - val_accuracy: 0.8445 - 20s/epoch - 101ms/step\n",
      "Epoch 44/50\n",
      "200/200 - 21s - loss: 0.0894 - accuracy: 0.9688 - val_loss: 0.5262 - val_accuracy: 0.8425 - 21s/epoch - 103ms/step\n",
      "Epoch 45/50\n",
      "200/200 - 21s - loss: 0.0947 - accuracy: 0.9667 - val_loss: 0.6016 - val_accuracy: 0.8200 - 21s/epoch - 103ms/step\n",
      "Epoch 46/50\n",
      "200/200 - 20s - loss: 0.0888 - accuracy: 0.9697 - val_loss: 0.4838 - val_accuracy: 0.8450 - 20s/epoch - 102ms/step\n",
      "Epoch 47/50\n",
      "200/200 - 21s - loss: 0.0839 - accuracy: 0.9707 - val_loss: 0.5918 - val_accuracy: 0.8300 - 21s/epoch - 104ms/step\n",
      "Epoch 48/50\n",
      "200/200 - 20s - loss: 0.0780 - accuracy: 0.9720 - val_loss: 0.5204 - val_accuracy: 0.8480 - 20s/epoch - 101ms/step\n",
      "Epoch 49/50\n",
      "200/200 - 20s - loss: 0.0855 - accuracy: 0.9715 - val_loss: 0.5125 - val_accuracy: 0.8475 - 20s/epoch - 101ms/step\n",
      "Epoch 50/50\n",
      "200/200 - 20s - loss: 0.0796 - accuracy: 0.9707 - val_loss: 0.5293 - val_accuracy: 0.8400 - 20s/epoch - 100ms/step\n"
     ]
    }
   ],
   "source": [
    "history = model.fit_generator(\n",
    "    train_generator,\n",
    "    steps_per_epoch=200,\n",
    "    epochs=50,\n",
    "    validation_data=test_generator,\n",
    "    validation_steps=100,\n",
    "    verbose=2\n",
    ")"
   ]
  },
  {
   "cell_type": "code",
   "execution_count": 20,
   "id": "1d7e0b2e",
   "metadata": {},
   "outputs": [
    {
     "data": {
      "image/png": "[encoded data removed]",
      "text/plain": [
       "<Figure size 640x480 with 1 Axes>"
      ]
     },
     "metadata": {},
     "output_type": "display_data"
    },
    {
     "data": {
      "image/png": "[encoded data removed]",
      "text/plain": [
       "<Figure size 640x480 with 1 Axes>"
      ]
     },
     "metadata": {},
     "output_type": "display_data"
    }
   ],
   "source": [
    "import matplotlib.pyplot as plt\n",
    "acc = history.history['accuracy']\n",
    "val_acc = history.history['val_accuracy']\n",
    "loss = history.history['loss']\n",
    "val_loss = history.history['val_loss']\n",
    "\n",
    "epochs = range(len(acc))\n",
    "\n",
    "\n",
    "plt.plot(epochs, acc, \"bo\", label='train accuracy')\n",
    "plt.plot(epochs, val_acc, 'b', label='test accuracy')\n",
    "\n",
    "plt.figure()\n",
    "plt.plot(epochs, loss, \"bo\", label='train loss')\n",
    "plt.plot(epochs, val_loss, 'b', label='test loss')\n",
    "\n",
    "plt.title('accuracy and loss')\n",
    "plt.legend()\n",
    "plt.show()"
   ]
  },
  {
   "cell_type": "markdown",
   "id": "48653bec",
   "metadata": {},
   "source": [
    "# 测试一下加上dropouut的效果"
   ]
  },
  {
   "cell_type": "code",
   "execution_count": 21,
   "id": "7858e2ba",
   "metadata": {},
   "outputs": [],
   "source": [
    "model2 = tf.keras.models.Sequential([\n",
    "    # 如果训练慢，可以数据设置的更小一些\n",
    "    # 得到filter32个特征图，卷积核3*3，默认激活层直接加relu，input_data输入大小\n",
    "    tf.keras.layers.Conv2D(32, (3, 3), activation='relu', input_shape=(64, 64, 3)),\n",
    "    # 池化层一般都是2*2，基本不改\n",
    "    tf.keras.layers.MaxPooling2D(2, 2),\n",
    "    tf.keras.layers.Dropout(0.2),\n",
    "    \n",
    "    tf.keras.layers.Conv2D(64, (3, 3), activation='relu'),\n",
    "    tf.keras.layers.MaxPooling2D(2, 2),\n",
    "    tf.keras.layers.Dropout(0.2),\n",
    "    \n",
    "    tf.keras.layers.Conv2D(128, (3, 3), activation='relu'),\n",
    "    tf.keras.layers.MaxPooling2D(2, 2),\n",
    "    tf.keras.layers.Dropout(0.2),\n",
    "    \n",
    "    # 为全连接层做准备\n",
    "    tf.keras.layers.Flatten(),\n",
    "    \n",
    "    tf.keras.layers.Dense(512, activation='relu'),\n",
    "    # 二分类digmoid就够了，输出0-1之间的概率值\n",
    "    tf.keras.layers.Dense(1, activation='sigmoid')\n",
    "])"
   ]
  },
  {
   "cell_type": "code",
   "execution_count": 22,
   "id": "74a63c4b",
   "metadata": {},
   "outputs": [
    {
     "name": "stdout",
     "output_type": "stream",
     "text": [
      "Model: \"sequential_1\"\n",
      "_________________________________________________________________\n",
      " Layer (type)                Output Shape              Param #   \n",
      "=================================================================\n",
      " conv2d_3 (Conv2D)           (None, 62, 62, 32)        896       \n",
      "                                                                 \n",
      " max_pooling2d_3 (MaxPooling  (None, 31, 31, 32)       0         \n",
      " 2D)                                                             \n",
      "                                                                 \n",
      " dropout (Dropout)           (None, 31, 31, 32)        0         \n",
      "                                                                 \n",
      " conv2d_4 (Conv2D)           (None, 29, 29, 64)        18496     \n",
      "                                                                 \n",
      " max_pooling2d_4 (MaxPooling  (None, 14, 14, 64)       0         \n",
      " 2D)                                                             \n",
      "                                                                 \n",
      " dropout_1 (Dropout)         (None, 14, 14, 64)        0         \n",
      "                                                                 \n",
      " conv2d_5 (Conv2D)           (None, 12, 12, 128)       73856     \n",
      "                                                                 \n",
      " max_pooling2d_5 (MaxPooling  (None, 6, 6, 128)        0         \n",
      " 2D)                                                             \n",
      "                                                                 \n",
      " dropout_2 (Dropout)         (None, 6, 6, 128)         0         \n",
      "                                                                 \n",
      " flatten_1 (Flatten)         (None, 4608)              0         \n",
      "                                                                 \n",
      " dense_2 (Dense)             (None, 512)               2359808   \n",
      "                                                                 \n",
      " dense_3 (Dense)             (None, 1)                 513       \n",
      "                                                                 \n",
      "=================================================================\n",
      "Total params: 2,453,569\n",
      "Trainable params: 2,453,569\n",
      "Non-trainable params: 0\n",
      "_________________________________________________________________\n"
     ]
    }
   ],
   "source": [
    "model2.summary()"
   ]
  },
  {
   "cell_type": "code",
   "execution_count": 24,
   "id": "2a76b333",
   "metadata": {},
   "outputs": [
    {
     "name": "stderr",
     "output_type": "stream",
     "text": [
      "WARNING:absl:`lr` is deprecated, please use `learning_rate` instead, or use the legacy optimizer, e.g.,tf.keras.optimizers.legacy.Adam.\n"
     ]
    }
   ],
   "source": [
    "model2.compile(loss='binary_crossentropy',\n",
    "              optimizer=Adam(lr=1e-4),\n",
    "              metrics=['accuracy']\n",
    "            )"
   ]
  },
  {
   "cell_type": "code",
   "execution_count": 25,
   "id": "f0b659c8",
   "metadata": {
    "scrolled": true
   },
   "outputs": [
    {
     "name": "stdout",
     "output_type": "stream",
     "text": [
      "Epoch 1/50\n",
      "200/200 - 23s - loss: 0.6959 - accuracy: 0.4935 - val_loss: 0.6927 - val_accuracy: 0.5095 - 23s/epoch - 113ms/step\n",
      "Epoch 2/50\n",
      "200/200 - 21s - loss: 0.6875 - accuracy: 0.5452 - val_loss: 0.6655 - val_accuracy: 0.5895 - 21s/epoch - 103ms/step\n",
      "Epoch 3/50\n",
      "200/200 - 20s - loss: 0.6754 - accuracy: 0.5645 - val_loss: 0.6537 - val_accuracy: 0.6275 - 20s/epoch - 99ms/step\n",
      "Epoch 4/50\n",
      "200/200 - 20s - loss: 0.6574 - accuracy: 0.6173 - val_loss: 0.6142 - val_accuracy: 0.6670 - 20s/epoch - 100ms/step\n",
      "Epoch 5/50\n",
      "200/200 - 20s - loss: 0.6227 - accuracy: 0.6543 - val_loss: 0.6379 - val_accuracy: 0.6405 - 20s/epoch - 100ms/step\n",
      "Epoch 6/50\n",
      "200/200 - 20s - loss: 0.5783 - accuracy: 0.6975 - val_loss: 0.5436 - val_accuracy: 0.7275 - 20s/epoch - 99ms/step\n",
      "Epoch 7/50\n",
      "200/200 - 20s - loss: 0.5666 - accuracy: 0.6985 - val_loss: 0.5593 - val_accuracy: 0.7055 - 20s/epoch - 100ms/step\n",
      "Epoch 8/50\n",
      "200/200 - 20s - loss: 0.5501 - accuracy: 0.7178 - val_loss: 0.5273 - val_accuracy: 0.7325 - 20s/epoch - 99ms/step\n",
      "Epoch 9/50\n",
      "200/200 - 20s - loss: 0.5261 - accuracy: 0.7343 - val_loss: 0.5757 - val_accuracy: 0.6860 - 20s/epoch - 99ms/step\n",
      "Epoch 10/50\n",
      "200/200 - 20s - loss: 0.5229 - accuracy: 0.7402 - val_loss: 0.5324 - val_accuracy: 0.7330 - 20s/epoch - 100ms/step\n",
      "Epoch 11/50\n",
      "200/200 - 20s - loss: 0.5050 - accuracy: 0.7584 - val_loss: 0.5004 - val_accuracy: 0.7610 - 20s/epoch - 101ms/step\n",
      "Epoch 12/50\n",
      "200/200 - 20s - loss: 0.5012 - accuracy: 0.7604 - val_loss: 0.4763 - val_accuracy: 0.7655 - 20s/epoch - 100ms/step\n",
      "Epoch 13/50\n",
      "200/200 - 20s - loss: 0.4659 - accuracy: 0.7760 - val_loss: 0.4955 - val_accuracy: 0.7615 - 20s/epoch - 101ms/step\n",
      "Epoch 14/50\n",
      "200/200 - 20s - loss: 0.4822 - accuracy: 0.7638 - val_loss: 0.4583 - val_accuracy: 0.7845 - 20s/epoch - 100ms/step\n",
      "Epoch 15/50\n",
      "200/200 - 20s - loss: 0.4568 - accuracy: 0.7830 - val_loss: 0.4619 - val_accuracy: 0.7840 - 20s/epoch - 102ms/step\n",
      "Epoch 16/50\n",
      "200/200 - 20s - loss: 0.4704 - accuracy: 0.7782 - val_loss: 0.4373 - val_accuracy: 0.7940 - 20s/epoch - 101ms/step\n",
      "Epoch 17/50\n",
      "200/200 - 21s - loss: 0.4510 - accuracy: 0.7910 - val_loss: 0.4274 - val_accuracy: 0.8000 - 21s/epoch - 103ms/step\n",
      "Epoch 18/50\n",
      "200/200 - 20s - loss: 0.4478 - accuracy: 0.7975 - val_loss: 0.4257 - val_accuracy: 0.8005 - 20s/epoch - 100ms/step\n",
      "Epoch 19/50\n",
      "200/200 - 20s - loss: 0.4381 - accuracy: 0.7855 - val_loss: 0.4469 - val_accuracy: 0.7935 - 20s/epoch - 100ms/step\n",
      "Epoch 20/50\n",
      "200/200 - 20s - loss: 0.4447 - accuracy: 0.7872 - val_loss: 0.4259 - val_accuracy: 0.8145 - 20s/epoch - 101ms/step\n",
      "Epoch 21/50\n",
      "200/200 - 20s - loss: 0.4163 - accuracy: 0.8123 - val_loss: 0.4219 - val_accuracy: 0.8045 - 20s/epoch - 100ms/step\n",
      "Epoch 22/50\n",
      "200/200 - 20s - loss: 0.4081 - accuracy: 0.8115 - val_loss: 0.4015 - val_accuracy: 0.8135 - 20s/epoch - 101ms/step\n",
      "Epoch 23/50\n",
      "200/200 - 20s - loss: 0.3962 - accuracy: 0.8158 - val_loss: 0.4175 - val_accuracy: 0.8160 - 20s/epoch - 101ms/step\n",
      "Epoch 24/50\n",
      "200/200 - 20s - loss: 0.4033 - accuracy: 0.8125 - val_loss: 0.4066 - val_accuracy: 0.8175 - 20s/epoch - 100ms/step\n",
      "Epoch 25/50\n",
      "200/200 - 20s - loss: 0.3961 - accuracy: 0.8130 - val_loss: 0.4067 - val_accuracy: 0.8205 - 20s/epoch - 100ms/step\n",
      "Epoch 26/50\n",
      "200/200 - 20s - loss: 0.3815 - accuracy: 0.8224 - val_loss: 0.3807 - val_accuracy: 0.8255 - 20s/epoch - 101ms/step\n",
      "Epoch 27/50\n",
      "200/200 - 20s - loss: 0.3734 - accuracy: 0.8295 - val_loss: 0.4131 - val_accuracy: 0.8190 - 20s/epoch - 100ms/step\n",
      "Epoch 28/50\n",
      "200/200 - 20s - loss: 0.3561 - accuracy: 0.8420 - val_loss: 0.4039 - val_accuracy: 0.8215 - 20s/epoch - 101ms/step\n",
      "Epoch 29/50\n",
      "200/200 - 20s - loss: 0.3545 - accuracy: 0.8440 - val_loss: 0.3750 - val_accuracy: 0.8370 - 20s/epoch - 101ms/step\n",
      "Epoch 30/50\n",
      "200/200 - 20s - loss: 0.3601 - accuracy: 0.8432 - val_loss: 0.3937 - val_accuracy: 0.8205 - 20s/epoch - 101ms/step\n",
      "Epoch 31/50\n",
      "200/200 - 20s - loss: 0.3713 - accuracy: 0.8322 - val_loss: 0.3801 - val_accuracy: 0.8310 - 20s/epoch - 101ms/step\n",
      "Epoch 32/50\n",
      "200/200 - 20s - loss: 0.3441 - accuracy: 0.8484 - val_loss: 0.4041 - val_accuracy: 0.8155 - 20s/epoch - 101ms/step\n",
      "Epoch 33/50\n",
      "200/200 - 20s - loss: 0.3576 - accuracy: 0.8422 - val_loss: 0.3842 - val_accuracy: 0.8285 - 20s/epoch - 101ms/step\n",
      "Epoch 34/50\n",
      "200/200 - 20s - loss: 0.3520 - accuracy: 0.8435 - val_loss: 0.3591 - val_accuracy: 0.8365 - 20s/epoch - 101ms/step\n",
      "Epoch 35/50\n",
      "200/200 - 20s - loss: 0.3294 - accuracy: 0.8529 - val_loss: 0.3712 - val_accuracy: 0.8310 - 20s/epoch - 101ms/step\n",
      "Epoch 36/50\n",
      "200/200 - 20s - loss: 0.3328 - accuracy: 0.8500 - val_loss: 0.3628 - val_accuracy: 0.8460 - 20s/epoch - 101ms/step\n",
      "Epoch 37/50\n",
      "200/200 - 20s - loss: 0.3268 - accuracy: 0.8533 - val_loss: 0.3684 - val_accuracy: 0.8370 - 20s/epoch - 101ms/step\n",
      "Epoch 38/50\n",
      "200/200 - 20s - loss: 0.3168 - accuracy: 0.8575 - val_loss: 0.3708 - val_accuracy: 0.8385 - 20s/epoch - 102ms/step\n",
      "Epoch 39/50\n",
      "200/200 - 21s - loss: 0.3015 - accuracy: 0.8717 - val_loss: 0.3899 - val_accuracy: 0.8310 - 21s/epoch - 106ms/step\n",
      "Epoch 40/50\n",
      "200/200 - 20s - loss: 0.3075 - accuracy: 0.8714 - val_loss: 0.3789 - val_accuracy: 0.8340 - 20s/epoch - 102ms/step\n",
      "Epoch 41/50\n",
      "200/200 - 20s - loss: 0.3003 - accuracy: 0.8680 - val_loss: 0.3707 - val_accuracy: 0.8440 - 20s/epoch - 102ms/step\n",
      "Epoch 42/50\n",
      "200/200 - 20s - loss: 0.3094 - accuracy: 0.8637 - val_loss: 0.3791 - val_accuracy: 0.8420 - 20s/epoch - 102ms/step\n",
      "Epoch 43/50\n",
      "200/200 - 20s - loss: 0.2896 - accuracy: 0.8717 - val_loss: 0.3595 - val_accuracy: 0.8450 - 20s/epoch - 101ms/step\n",
      "Epoch 44/50\n",
      "200/200 - 20s - loss: 0.2998 - accuracy: 0.8687 - val_loss: 0.3623 - val_accuracy: 0.8415 - 20s/epoch - 101ms/step\n",
      "Epoch 45/50\n",
      "200/200 - 20s - loss: 0.2707 - accuracy: 0.8884 - val_loss: 0.3852 - val_accuracy: 0.8375 - 20s/epoch - 101ms/step\n",
      "Epoch 46/50\n",
      "200/200 - 20s - loss: 0.2921 - accuracy: 0.8737 - val_loss: 0.3818 - val_accuracy: 0.8455 - 20s/epoch - 102ms/step\n",
      "Epoch 47/50\n",
      "200/200 - 20s - loss: 0.2761 - accuracy: 0.8849 - val_loss: 0.3618 - val_accuracy: 0.8515 - 20s/epoch - 102ms/step\n",
      "Epoch 48/50\n",
      "200/200 - 20s - loss: 0.2727 - accuracy: 0.8842 - val_loss: 0.3891 - val_accuracy: 0.8490 - 20s/epoch - 102ms/step\n",
      "Epoch 49/50\n",
      "200/200 - 20s - loss: 0.2560 - accuracy: 0.8940 - val_loss: 0.3549 - val_accuracy: 0.8580 - 20s/epoch - 102ms/step\n",
      "Epoch 50/50\n",
      "200/200 - 20s - loss: 0.2707 - accuracy: 0.8810 - val_loss: 0.3631 - val_accuracy: 0.8535 - 20s/epoch - 102ms/step\n"
     ]
    }
   ],
   "source": [
    "history2 = model2.fit_generator(\n",
    "    train_generator,\n",
    "    steps_per_epoch=200,\n",
    "    epochs=50,\n",
    "    validation_data=test_generator,\n",
    "    validation_steps=100,\n",
    "    verbose=2\n",
    ")"
   ]
  },
  {
   "cell_type": "code",
   "execution_count": 26,
   "id": "f61e9597",
   "metadata": {},
   "outputs": [
    {
     "data": {
      "image/png": "[encoded data removed]",
      "text/plain": [
       "<Figure size 640x480 with 1 Axes>"
      ]
     },
     "metadata": {},
     "output_type": "display_data"
    },
    {
     "data": {
      "image/png": "[encoded data removed]",
      "text/plain": [
       "<Figure size 640x480 with 1 Axes>"
      ]
     },
     "metadata": {},
     "output_type": "display_data"
    }
   ],
   "source": [
    "import matplotlib.pyplot as plt\n",
    "acc = history2.history['accuracy']\n",
    "val_acc = history2.history['val_accuracy']\n",
    "loss = history2.history['loss']\n",
    "val_loss = history2.history['val_loss']\n",
    "\n",
    "epochs = range(len(acc))\n",
    "\n",
    "\n",
    "plt.plot(epochs, acc, \"bo\", label='train accuracy')\n",
    "plt.plot(epochs, val_acc, 'b', label='test accuracy')\n",
    "\n",
    "plt.figure()\n",
    "plt.plot(epochs, loss, \"bo\", label='train loss')\n",
    "plt.plot(epochs, val_loss, 'b', label='test loss')\n",
    "\n",
    "plt.title('accuracy and loss')\n",
    "plt.legend()\n",
    "plt.show()"
   ]
  },
  {
   "cell_type": "code",
   "execution_count": null,
   "id": "7bcd6c3e",
   "metadata": {},
   "outputs": [],
   "source": []
  }
 ],
 "metadata": {
  "kernelspec": {
   "display_name": "Python 3 (ipykernel)",
   "language": "python",
   "name": "python3"
  },
  "language_info": {
   "codemirror_mode": {
    "name": "ipython",
    "version": 3
   },
   "file_extension": ".py",
   "mimetype": "text/x-python",
   "name": "python",
   "nbconvert_exporter": "python",
   "pygments_lexer": "ipython3",
   "version": "3.9.16"
  }
 },
 "nbformat": 4,
 "nbformat_minor": 5
}
