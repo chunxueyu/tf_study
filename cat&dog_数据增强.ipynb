{
 "cells": [
  {
   "cell_type": "code",
   "execution_count": 1,
   "metadata": {},
   "outputs": [],
   "source": [
    "import os\n",
    "import shutil\n",
    "from shutil import copyfile\n",
    "import random\n",
    "import warnings\n",
    "warnings.filterwarnings(\"ignore\")\n",
    "import tensorflow as tf\n",
    "from tensorflow.keras.optimizers import Adam\n",
    "from tensorflow.keras.preprocessing.image import ImageDataGenerator"
   ]
  },
  {
   "cell_type": "code",
   "execution_count": 2,
   "metadata": {},
   "outputs": [],
   "source": [
    "base_dir = \"./data/PetImages/\"\n",
    "\n",
    "train_dir = os.path.join(base_dir, 'training')\n",
    "test_dir = os.path.join(base_dir, 'testing')\n",
    "\n",
    "# 训练集\n",
    "train_dogs = os.path.join(base_dir, 'training/dogs')\n",
    "train_cats = os.path.join(base_dir, 'training/cats')\n",
    "\n",
    "# 测试集\n",
    "test_dogs = os.path.join(base_dir, 'testing/dogs')\n",
    "test_cats = os.path.join(base_dir, 'testing/cats')"
   ]
  },
  {
   "cell_type": "code",
   "execution_count": 3,
   "metadata": {},
   "outputs": [],
   "source": [
    "model = tf.keras.models.Sequential([\n",
    "    # 如果训练慢，可以数据设置的更小一些\n",
    "    # 得到filter32个特征图，卷积核3*3，默认激活层直接加relu，input_data输入大小\n",
    "    tf.keras.layers.Conv2D(32, (3, 3), activation='relu', input_shape=(64, 64, 3)),\n",
    "    # 池化层一般都是2*2，基本不改\n",
    "    tf.keras.layers.MaxPooling2D(2, 2),\n",
    "    \n",
    "    tf.keras.layers.Conv2D(64, (3, 3), activation='relu'),\n",
    "    tf.keras.layers.MaxPooling2D(2, 2),\n",
    "    \n",
    "    tf.keras.layers.Conv2D(128, (3, 3), activation='relu'),\n",
    "    tf.keras.layers.MaxPooling2D(2, 2),\n",
    "    \n",
    "    # 为全连接层做准备\n",
    "    tf.keras.layers.Flatten(),\n",
    "    \n",
    "    tf.keras.layers.Dense(512, activation='relu'),\n",
    "    # 二分类digmoid就够了，输出0-1之间的概率值\n",
    "    tf.keras.layers.Dense(1, activation='sigmoid')\n",
    "])"
   ]
  },
  {
   "cell_type": "code",
   "execution_count": 4,
   "metadata": {},
   "outputs": [
    {
     "name": "stdout",
     "output_type": "stream",
     "text": [
      "Model: \"sequential\"\n",
      "_________________________________________________________________\n",
      " Layer (type)                Output Shape              Param #   \n",
      "=================================================================\n",
      " conv2d (Conv2D)             (None, 62, 62, 32)        896       \n",
      "                                                                 \n",
      " max_pooling2d (MaxPooling2D  (None, 31, 31, 32)       0         \n",
      " )                                                               \n",
      "                                                                 \n",
      " conv2d_1 (Conv2D)           (None, 29, 29, 64)        18496     \n",
      "                                                                 \n",
      " max_pooling2d_1 (MaxPooling  (None, 14, 14, 64)       0         \n",
      " 2D)                                                             \n",
      "                                                                 \n",
      " conv2d_2 (Conv2D)           (None, 12, 12, 128)       73856     \n",
      "                                                                 \n",
      " max_pooling2d_2 (MaxPooling  (None, 6, 6, 128)        0         \n",
      " 2D)                                                             \n",
      "                                                                 \n",
      " flatten (Flatten)           (None, 4608)              0         \n",
      "                                                                 \n",
      " dense (Dense)               (None, 512)               2359808   \n",
      "                                                                 \n",
      " dense_1 (Dense)             (None, 1)                 513       \n",
      "                                                                 \n",
      "=================================================================\n",
      "Total params: 2,453,569\n",
      "Trainable params: 2,453,569\n",
      "Non-trainable params: 0\n",
      "_________________________________________________________________\n"
     ]
    }
   ],
   "source": [
    "model.summary()\n",
    "# 62 = (64 - 3) / 1 + 1, 32是输出个数， 896=3*3卷积核*3通道*32个卷积核+32即b值\n",
    "# 池化层没权重参数，h，w变一半，个数不变\n",
    "# 全连接层参数大，更容易过拟合"
   ]
  },
  {
   "cell_type": "code",
   "execution_count": 5,
   "metadata": {},
   "outputs": [
    {
     "name": "stderr",
     "output_type": "stream",
     "text": [
      "WARNING:absl:`lr` is deprecated, please use `learning_rate` instead, or use the legacy optimizer, e.g.,tf.keras.optimizers.legacy.Adam.\n"
     ]
    }
   ],
   "source": [
    "model.compile(loss='binary_crossentropy',\n",
    "              optimizer=Adam(lr=1e-4),\n",
    "              metrics=['accuracy']\n",
    "            )"
   ]
  },
  {
   "cell_type": "code",
   "execution_count": 8,
   "metadata": {},
   "outputs": [],
   "source": [
    "train_datagen = ImageDataGenerator(\n",
    "    rescale=1./255,\n",
    "    rotation_range=40,\n",
    "    width_shift_range=0.2,\n",
    "    height_shift_range=0.2,\n",
    "    shear_range=0.2,\n",
    "    zoom_range=0.2,\n",
    "    horizontal_flip=True,\n",
    "    fill_mode='nearest'\n",
    ")\n",
    "\n",
    "test_datagen = ImageDataGenerator(rescale=1./255)"
   ]
  },
  {
   "cell_type": "code",
   "execution_count": 9,
   "metadata": {},
   "outputs": [
    {
     "name": "stdout",
     "output_type": "stream",
     "text": [
      "Found 22498 images belonging to 2 classes.\n",
      "Found 2500 images belonging to 2 classes.\n"
     ]
    }
   ],
   "source": [
    "train_generator = train_datagen.flow_from_directory(\n",
    "    train_dir, # 文件夹路径\n",
    "    target_size=(64, 64), # 指定resize层的大小\n",
    "    batch_size=20,\n",
    "    # 如果one_hot就是categorical，二分类用binary就可以\n",
    "    class_mode='binary'\n",
    ")\n",
    "test_generator = test_datagen.flow_from_directory(\n",
    "    test_dir, # 文件夹路径\n",
    "    target_size=(64, 64), # 指定resize层的大小\n",
    "    batch_size=20,\n",
    "    # 如果one_hot就是categorical，二分类用binary就可以\n",
    "    class_mode='binary'\n",
    ")"
   ]
  },
  {
   "cell_type": "code",
   "execution_count": 10,
   "metadata": {
    "scrolled": true
   },
   "outputs": [
    {
     "name": "stdout",
     "output_type": "stream",
     "text": [
      "Epoch 1/50\n",
      "200/200 - 36s - loss: 0.6955 - accuracy: 0.4985 - val_loss: 0.6930 - val_accuracy: 0.5325 - 36s/epoch - 180ms/step\n",
      "Epoch 2/50\n",
      "200/200 - 33s - loss: 0.6922 - accuracy: 0.5310 - val_loss: 0.6806 - val_accuracy: 0.5655 - 33s/epoch - 165ms/step\n",
      "Epoch 3/50\n",
      "200/200 - 33s - loss: 0.6815 - accuracy: 0.5675 - val_loss: 0.6683 - val_accuracy: 0.6000 - 33s/epoch - 164ms/step\n",
      "Epoch 4/50\n",
      "200/200 - 34s - loss: 0.6809 - accuracy: 0.5795 - val_loss: 0.6627 - val_accuracy: 0.5930 - 34s/epoch - 172ms/step\n",
      "Epoch 5/50\n",
      "200/200 - 32s - loss: 0.6772 - accuracy: 0.5820 - val_loss: 0.6769 - val_accuracy: 0.5855 - 32s/epoch - 159ms/step\n",
      "Epoch 6/50\n",
      "200/200 - 32s - loss: 0.6753 - accuracy: 0.5810 - val_loss: 0.6663 - val_accuracy: 0.5965 - 32s/epoch - 162ms/step\n",
      "Epoch 7/50\n",
      "200/200 - 33s - loss: 0.6551 - accuracy: 0.6162 - val_loss: 0.6239 - val_accuracy: 0.6445 - 33s/epoch - 165ms/step\n",
      "Epoch 8/50\n",
      "200/200 - 30s - loss: 0.6297 - accuracy: 0.6378 - val_loss: 0.5845 - val_accuracy: 0.6780 - 30s/epoch - 149ms/step\n",
      "Epoch 9/50\n",
      "200/200 - 28s - loss: 0.6175 - accuracy: 0.6518 - val_loss: 0.6401 - val_accuracy: 0.6310 - 28s/epoch - 142ms/step\n",
      "Epoch 10/50\n",
      "200/200 - 32s - loss: 0.6176 - accuracy: 0.6583 - val_loss: 0.5650 - val_accuracy: 0.7170 - 32s/epoch - 161ms/step\n",
      "Epoch 11/50\n",
      "200/200 - 28s - loss: 0.6021 - accuracy: 0.6745 - val_loss: 0.5624 - val_accuracy: 0.7055 - 28s/epoch - 142ms/step\n",
      "Epoch 12/50\n",
      "200/200 - 28s - loss: 0.5925 - accuracy: 0.6785 - val_loss: 0.6573 - val_accuracy: 0.6420 - 28s/epoch - 142ms/step\n",
      "Epoch 13/50\n",
      "200/200 - 29s - loss: 0.6019 - accuracy: 0.6762 - val_loss: 0.5532 - val_accuracy: 0.7140 - 29s/epoch - 144ms/step\n",
      "Epoch 14/50\n",
      "200/200 - 27s - loss: 0.5808 - accuracy: 0.6905 - val_loss: 0.5927 - val_accuracy: 0.6725 - 27s/epoch - 134ms/step\n",
      "Epoch 15/50\n",
      "200/200 - 27s - loss: 0.5860 - accuracy: 0.6855 - val_loss: 0.5810 - val_accuracy: 0.6815 - 27s/epoch - 136ms/step\n",
      "Epoch 16/50\n",
      "200/200 - 28s - loss: 0.5652 - accuracy: 0.7075 - val_loss: 0.5754 - val_accuracy: 0.6910 - 28s/epoch - 138ms/step\n",
      "Epoch 17/50\n",
      "200/200 - 27s - loss: 0.5688 - accuracy: 0.6925 - val_loss: 0.5175 - val_accuracy: 0.7335 - 27s/epoch - 136ms/step\n",
      "Epoch 18/50\n",
      "200/200 - 28s - loss: 0.5593 - accuracy: 0.7117 - val_loss: 0.5214 - val_accuracy: 0.7405 - 28s/epoch - 138ms/step\n",
      "Epoch 19/50\n",
      "200/200 - 27s - loss: 0.5614 - accuracy: 0.7065 - val_loss: 0.5527 - val_accuracy: 0.7120 - 27s/epoch - 137ms/step\n",
      "Epoch 20/50\n",
      "200/200 - 27s - loss: 0.5568 - accuracy: 0.7125 - val_loss: 0.5095 - val_accuracy: 0.7550 - 27s/epoch - 137ms/step\n",
      "Epoch 21/50\n",
      "200/200 - 28s - loss: 0.5581 - accuracy: 0.7157 - val_loss: 0.5127 - val_accuracy: 0.7525 - 28s/epoch - 138ms/step\n",
      "Epoch 22/50\n",
      "200/200 - 27s - loss: 0.5323 - accuracy: 0.7254 - val_loss: 0.4844 - val_accuracy: 0.7735 - 27s/epoch - 135ms/step\n",
      "Epoch 23/50\n",
      "200/200 - 27s - loss: 0.5301 - accuracy: 0.7305 - val_loss: 0.5507 - val_accuracy: 0.7220 - 27s/epoch - 136ms/step\n",
      "Epoch 24/50\n",
      "200/200 - 27s - loss: 0.5375 - accuracy: 0.7322 - val_loss: 0.5136 - val_accuracy: 0.7475 - 27s/epoch - 137ms/step\n",
      "Epoch 25/50\n",
      "200/200 - 28s - loss: 0.5303 - accuracy: 0.7405 - val_loss: 0.5020 - val_accuracy: 0.7600 - 28s/epoch - 141ms/step\n",
      "Epoch 26/50\n",
      "200/200 - 31s - loss: 0.5323 - accuracy: 0.7275 - val_loss: 0.4986 - val_accuracy: 0.7470 - 31s/epoch - 157ms/step\n",
      "Epoch 27/50\n",
      "200/200 - 32s - loss: 0.5114 - accuracy: 0.7550 - val_loss: 0.5257 - val_accuracy: 0.7525 - 32s/epoch - 159ms/step\n",
      "Epoch 28/50\n",
      "200/200 - 32s - loss: 0.5198 - accuracy: 0.7376 - val_loss: 0.4876 - val_accuracy: 0.7735 - 32s/epoch - 160ms/step\n",
      "Epoch 29/50\n",
      "200/200 - 32s - loss: 0.5292 - accuracy: 0.7365 - val_loss: 0.4852 - val_accuracy: 0.7665 - 32s/epoch - 161ms/step\n",
      "Epoch 30/50\n",
      "200/200 - 32s - loss: 0.5149 - accuracy: 0.7427 - val_loss: 0.4818 - val_accuracy: 0.7710 - 32s/epoch - 158ms/step\n",
      "Epoch 31/50\n",
      "200/200 - 31s - loss: 0.5201 - accuracy: 0.7408 - val_loss: 0.4601 - val_accuracy: 0.7780 - 31s/epoch - 155ms/step\n",
      "Epoch 32/50\n",
      "200/200 - 31s - loss: 0.5133 - accuracy: 0.7412 - val_loss: 0.4840 - val_accuracy: 0.7635 - 31s/epoch - 153ms/step\n",
      "Epoch 33/50\n",
      "200/200 - 31s - loss: 0.5129 - accuracy: 0.7483 - val_loss: 0.4731 - val_accuracy: 0.7815 - 31s/epoch - 154ms/step\n",
      "Epoch 34/50\n",
      "200/200 - 32s - loss: 0.5109 - accuracy: 0.7487 - val_loss: 0.4671 - val_accuracy: 0.7735 - 32s/epoch - 158ms/step\n",
      "Epoch 35/50\n",
      "200/200 - 32s - loss: 0.5161 - accuracy: 0.7435 - val_loss: 0.4718 - val_accuracy: 0.7730 - 32s/epoch - 161ms/step\n",
      "Epoch 36/50\n",
      "200/200 - 33s - loss: 0.5018 - accuracy: 0.7473 - val_loss: 0.4629 - val_accuracy: 0.7845 - 33s/epoch - 163ms/step\n",
      "Epoch 37/50\n",
      "200/200 - 33s - loss: 0.5179 - accuracy: 0.7427 - val_loss: 0.4651 - val_accuracy: 0.7825 - 33s/epoch - 163ms/step\n",
      "Epoch 38/50\n",
      "200/200 - 33s - loss: 0.5105 - accuracy: 0.7479 - val_loss: 0.4414 - val_accuracy: 0.7945 - 33s/epoch - 163ms/step\n",
      "Epoch 39/50\n",
      "200/200 - 32s - loss: 0.4991 - accuracy: 0.7575 - val_loss: 0.4497 - val_accuracy: 0.8020 - 32s/epoch - 162ms/step\n",
      "Epoch 40/50\n",
      "200/200 - 32s - loss: 0.5111 - accuracy: 0.7430 - val_loss: 0.4773 - val_accuracy: 0.7660 - 32s/epoch - 160ms/step\n",
      "Epoch 41/50\n",
      "200/200 - 33s - loss: 0.4956 - accuracy: 0.7566 - val_loss: 0.4404 - val_accuracy: 0.7885 - 33s/epoch - 163ms/step\n",
      "Epoch 42/50\n",
      "200/200 - 32s - loss: 0.4840 - accuracy: 0.7599 - val_loss: 0.4372 - val_accuracy: 0.7960 - 32s/epoch - 161ms/step\n",
      "Epoch 43/50\n",
      "200/200 - 33s - loss: 0.4830 - accuracy: 0.7559 - val_loss: 0.4581 - val_accuracy: 0.7860 - 33s/epoch - 163ms/step\n",
      "Epoch 44/50\n",
      "200/200 - 33s - loss: 0.4759 - accuracy: 0.7715 - val_loss: 0.4479 - val_accuracy: 0.7925 - 33s/epoch - 164ms/step\n",
      "Epoch 45/50\n",
      "200/200 - 32s - loss: 0.4812 - accuracy: 0.7607 - val_loss: 0.4885 - val_accuracy: 0.7640 - 32s/epoch - 162ms/step\n",
      "Epoch 46/50\n",
      "200/200 - 32s - loss: 0.4896 - accuracy: 0.7623 - val_loss: 0.4424 - val_accuracy: 0.7810 - 32s/epoch - 162ms/step\n",
      "Epoch 47/50\n",
      "200/200 - 32s - loss: 0.4885 - accuracy: 0.7685 - val_loss: 0.4782 - val_accuracy: 0.7675 - 32s/epoch - 161ms/step\n",
      "Epoch 48/50\n",
      "200/200 - 27s - loss: 0.4740 - accuracy: 0.7645 - val_loss: 0.4498 - val_accuracy: 0.7820 - 27s/epoch - 137ms/step\n",
      "Epoch 49/50\n",
      "200/200 - 28s - loss: 0.4828 - accuracy: 0.7617 - val_loss: 0.4303 - val_accuracy: 0.8010 - 28s/epoch - 141ms/step\n",
      "Epoch 50/50\n",
      "200/200 - 33s - loss: 0.4723 - accuracy: 0.7729 - val_loss: 0.4097 - val_accuracy: 0.8190 - 33s/epoch - 163ms/step\n"
     ]
    }
   ],
   "source": [
    "history = model.fit_generator(\n",
    "    train_generator,\n",
    "    steps_per_epoch=200,\n",
    "    epochs=50,\n",
    "    validation_data=test_generator,\n",
    "    validation_steps=100,\n",
    "    verbose=2\n",
    ")"
   ]
  },
  {
   "cell_type": "code",
   "execution_count": 11,
   "metadata": {},
   "outputs": [
    {
     "data": {
      "image/png": "[encoded data removed]",
      "text/plain": [
       "<Figure size 432x288 with 1 Axes>"
      ]
     },
     "metadata": {
      "needs_background": "light"
     },
     "output_type": "display_data"
    },
    {
     "data": {
      "image/png": "[encoded data removed]",
      "text/plain": [
       "<Figure size 432x288 with 1 Axes>"
      ]
     },
     "metadata": {
      "needs_background": "light"
     },
     "output_type": "display_data"
    }
   ],
   "source": [
    "import matplotlib.pyplot as plt\n",
    "acc = history.history['accuracy']\n",
    "val_acc = history.history['val_accuracy']\n",
    "loss = history.history['loss']\n",
    "val_loss = history.history['val_loss']\n",
    "\n",
    "epochs = range(len(acc))\n",
    "\n",
    "\n",
    "plt.plot(epochs, acc, \"bo\", label='train accuracy')\n",
    "plt.plot(epochs, val_acc, 'b', label='test accuracy')\n",
    "\n",
    "plt.figure()\n",
    "plt.plot(epochs, loss, \"bo\", label='train loss')\n",
    "plt.plot(epochs, val_loss, 'b', label='test loss')\n",
    "\n",
    "plt.title('accuracy and loss')\n",
    "plt.legend()\n",
    "plt.show()"
   ]
  },
  {
   "cell_type": "code",
   "execution_count": 12,
   "metadata": {},
   "outputs": [],
   "source": [
    "model2 = tf.keras.models.Sequential([\n",
    "    # 如果训练慢，可以数据设置的更小一些\n",
    "    # 得到filter32个特征图，卷积核3*3，默认激活层直接加relu，input_data输入大小\n",
    "    tf.keras.layers.Conv2D(32, (3, 3), activation='relu', input_shape=(64, 64, 3)),\n",
    "    # 池化层一般都是2*2，基本不改\n",
    "    tf.keras.layers.MaxPooling2D(2, 2),\n",
    "    \n",
    "    tf.keras.layers.Conv2D(64, (3, 3), activation='relu'),\n",
    "    tf.keras.layers.MaxPooling2D(2, 2),\n",
    "    \n",
    "    tf.keras.layers.Conv2D(128, (3, 3), activation='relu'),\n",
    "    tf.keras.layers.MaxPooling2D(2, 2),\n",
    "    \n",
    "    \n",
    "    # 为全连接层做准备\n",
    "    tf.keras.layers.Flatten(),\n",
    "    \n",
    "    tf.keras.layers.Dense(512, activation='relu'),\n",
    "    tf.keras.layers.Dropout(0.5),\n",
    "    # 二分类digmoid就够了，输出0-1之间的概率值\n",
    "    tf.keras.layers.Dense(1, activation='sigmoid')\n",
    "])"
   ]
  },
  {
   "cell_type": "code",
   "execution_count": 13,
   "metadata": {},
   "outputs": [
    {
     "ename": "NameError",
     "evalue": "name 'history2' is not defined",
     "output_type": "error",
     "traceback": [
      "\u001b[1;31m---------------------------------------------------------------------------\u001b[0m",
      "\u001b[1;31mNameError\u001b[0m                                 Traceback (most recent call last)",
      "\u001b[1;32m<ipython-input-13-234d5b74c112>\u001b[0m in \u001b[0;36m<module>\u001b[1;34m\u001b[0m\n\u001b[0;32m      1\u001b[0m \u001b[1;32mimport\u001b[0m \u001b[0mmatplotlib\u001b[0m\u001b[1;33m.\u001b[0m\u001b[0mpyplot\u001b[0m \u001b[1;32mas\u001b[0m \u001b[0mplt\u001b[0m\u001b[1;33m\u001b[0m\u001b[1;33m\u001b[0m\u001b[0m\n\u001b[1;32m----> 2\u001b[1;33m \u001b[0macc\u001b[0m \u001b[1;33m=\u001b[0m \u001b[0mhistory2\u001b[0m\u001b[1;33m.\u001b[0m\u001b[0mhistory\u001b[0m\u001b[1;33m[\u001b[0m\u001b[1;34m'accuracy'\u001b[0m\u001b[1;33m]\u001b[0m\u001b[1;33m\u001b[0m\u001b[1;33m\u001b[0m\u001b[0m\n\u001b[0m\u001b[0;32m      3\u001b[0m \u001b[0mval_acc\u001b[0m \u001b[1;33m=\u001b[0m \u001b[0mhistory2\u001b[0m\u001b[1;33m.\u001b[0m\u001b[0mhistory\u001b[0m\u001b[1;33m[\u001b[0m\u001b[1;34m'val_accuracy'\u001b[0m\u001b[1;33m]\u001b[0m\u001b[1;33m\u001b[0m\u001b[1;33m\u001b[0m\u001b[0m\n\u001b[0;32m      4\u001b[0m \u001b[0mloss\u001b[0m \u001b[1;33m=\u001b[0m \u001b[0mhistory2\u001b[0m\u001b[1;33m.\u001b[0m\u001b[0mhistory\u001b[0m\u001b[1;33m[\u001b[0m\u001b[1;34m'loss'\u001b[0m\u001b[1;33m]\u001b[0m\u001b[1;33m\u001b[0m\u001b[1;33m\u001b[0m\u001b[0m\n\u001b[0;32m      5\u001b[0m \u001b[0mval_loss\u001b[0m \u001b[1;33m=\u001b[0m \u001b[0mhistory2\u001b[0m\u001b[1;33m.\u001b[0m\u001b[0mhistory\u001b[0m\u001b[1;33m[\u001b[0m\u001b[1;34m'val_loss'\u001b[0m\u001b[1;33m]\u001b[0m\u001b[1;33m\u001b[0m\u001b[1;33m\u001b[0m\u001b[0m\n",
      "\u001b[1;31mNameError\u001b[0m: name 'history2' is not defined"
     ]
    }
   ],
   "source": [
    "import matplotlib.pyplot as plt\n",
    "acc = history2.history['accuracy']\n",
    "val_acc = history2.history['val_accuracy']\n",
    "loss = history2.history['loss']\n",
    "val_loss = history2.history['val_loss']\n",
    "\n",
    "epochs = range(len(acc))\n",
    "\n",
    "\n",
    "plt.plot(epochs, acc, \"bo\", label='train accuracy')\n",
    "plt.plot(epochs, val_acc, 'b', label='test accuracy')\n",
    "\n",
    "plt.figure()\n",
    "plt.plot(epochs, loss, \"bo\", label='train loss')\n",
    "plt.plot(epochs, val_loss, 'b', label='test loss')\n",
    "\n",
    "plt.title('accuracy and loss')\n",
    "plt.legend()\n",
    "plt.show()"
   ]
  },
  {
   "cell_type": "code",
   "execution_count": null,
   "metadata": {},
   "outputs": [],
   "source": []
  }
 ],
 "metadata": {
  "kernelspec": {
   "display_name": "Python 3",
   "language": "python",
   "name": "python3"
  },
  "language_info": {
   "codemirror_mode": {
    "name": "ipython",
    "version": 3
   },
   "file_extension": ".py",
   "mimetype": "text/x-python",
   "name": "python",
   "nbconvert_exporter": "python",
   "pygments_lexer": "ipython3",
   "version": "3.8.3"
  }
 },
 "nbformat": 4,
 "nbformat_minor": 4
}
