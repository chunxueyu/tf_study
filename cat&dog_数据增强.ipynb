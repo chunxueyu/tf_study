{
 "cells": [
  {
   "cell_type": "code",
   "execution_count": 1,
   "metadata": {},
   "outputs": [],
   "source": [
    "import os\n",
    "import shutil\n",
    "from shutil import copyfile\n",
    "import random\n",
    "import warnings\n",
    "warnings.filterwarnings(\"ignore\")\n",
    "import tensorflow as tf\n",
    "from tensorflow.keras.optimizers import Adam\n",
    "from tensorflow.keras.preprocessing.image import ImageDataGenerator"
   ]
  },
  {
   "cell_type": "code",
   "execution_count": 2,
   "metadata": {},
   "outputs": [],
   "source": [
    "base_dir = \"./data/PetImages/\"\n",
    "\n",
    "train_dir = os.path.join(base_dir, 'training')\n",
    "test_dir = os.path.join(base_dir, 'testing')\n",
    "\n",
    "# 训练集\n",
    "train_dogs = os.path.join(base_dir, 'training/dogs')\n",
    "train_cats = os.path.join(base_dir, 'training/cats')\n",
    "\n",
    "# 测试集\n",
    "test_dogs = os.path.join(base_dir, 'testing/dogs')\n",
    "test_cats = os.path.join(base_dir, 'testing/cats')"
   ]
  },
  {
   "cell_type": "code",
   "execution_count": 3,
   "metadata": {},
   "outputs": [],
   "source": [
    "model = tf.keras.models.Sequential([\n",
    "    # 如果训练慢，可以数据设置的更小一些\n",
    "    # 得到filter32个特征图，卷积核3*3，默认激活层直接加relu，input_data输入大小\n",
    "    tf.keras.layers.Conv2D(32, (3, 3), activation='relu', input_shape=(64, 64, 3)),\n",
    "    # 池化层一般都是2*2，基本不改\n",
    "    tf.keras.layers.MaxPooling2D(2, 2),\n",
    "    \n",
    "    tf.keras.layers.Conv2D(64, (3, 3), activation='relu'),\n",
    "    tf.keras.layers.MaxPooling2D(2, 2),\n",
    "    \n",
    "    tf.keras.layers.Conv2D(128, (3, 3), activation='relu'),\n",
    "    tf.keras.layers.MaxPooling2D(2, 2),\n",
    "    \n",
    "    # 为全连接层做准备\n",
    "    tf.keras.layers.Flatten(),\n",
    "    \n",
    "    tf.keras.layers.Dense(512, activation='relu'),\n",
    "    # 二分类digmoid就够了，输出0-1之间的概率值\n",
    "    tf.keras.layers.Dense(1, activation='sigmoid')\n",
    "])"
   ]
  },
  {
   "cell_type": "code",
   "execution_count": 4,
   "metadata": {},
   "outputs": [
    {
     "name": "stdout",
     "output_type": "stream",
     "text": [
      "Model: \"sequential\"\n",
      "_________________________________________________________________\n",
      "Layer (type)                 Output Shape              Param #   \n",
      "=================================================================\n",
      "conv2d (Conv2D)              (None, 62, 62, 32)        896       \n",
      "_________________________________________________________________\n",
      "max_pooling2d (MaxPooling2D) (None, 31, 31, 32)        0         \n",
      "_________________________________________________________________\n",
      "conv2d_1 (Conv2D)            (None, 29, 29, 64)        18496     \n",
      "_________________________________________________________________\n",
      "max_pooling2d_1 (MaxPooling2 (None, 14, 14, 64)        0         \n",
      "_________________________________________________________________\n",
      "conv2d_2 (Conv2D)            (None, 12, 12, 128)       73856     \n",
      "_________________________________________________________________\n",
      "max_pooling2d_2 (MaxPooling2 (None, 6, 6, 128)         0         \n",
      "_________________________________________________________________\n",
      "flatten (Flatten)            (None, 4608)              0         \n",
      "_________________________________________________________________\n",
      "dense (Dense)                (None, 512)               2359808   \n",
      "_________________________________________________________________\n",
      "dense_1 (Dense)              (None, 1)                 513       \n",
      "=================================================================\n",
      "Total params: 2,453,569\n",
      "Trainable params: 2,453,569\n",
      "Non-trainable params: 0\n",
      "_________________________________________________________________\n"
     ]
    }
   ],
   "source": [
    "model.summary()\n",
    "# 62 = (64 - 3) / 1 + 1, 32是输出个数， 896=3*3卷积核*3通道*32个卷积核+32即b值\n",
    "# 池化层没权重参数，h，w变一半，个数不变\n",
    "# 全连接层参数大，更容易过拟合"
   ]
  },
  {
   "cell_type": "code",
   "execution_count": 5,
   "metadata": {},
   "outputs": [],
   "source": [
    "model.compile(loss='binary_crossentropy',\n",
    "              optimizer=Adam(lr=1e-4),\n",
    "              metrics=['accuracy']\n",
    "            )"
   ]
  },
  {
   "cell_type": "code",
   "execution_count": 6,
   "metadata": {},
   "outputs": [],
   "source": [
    "train_datagen = ImageDataGenerator(\n",
    "    rescale=1./255,\n",
    "    rotation_range=40,\n",
    "    width_shift_range=0.2,\n",
    "    height_shift_range=0.2,\n",
    "    shear_range=0.2,\n",
    "    zoom_range=0.2,\n",
    "    horizontal_flip=True,\n",
    "    fill_mode='nearest'\n",
    ")\n",
    "\n",
    "test_datagen = ImageDataGenerator(rescale=1./255)"
   ]
  },
  {
   "cell_type": "code",
   "execution_count": 7,
   "metadata": {},
   "outputs": [
    {
     "name": "stdout",
     "output_type": "stream",
     "text": [
      "Found 22498 images belonging to 2 classes.\n",
      "Found 2500 images belonging to 2 classes.\n"
     ]
    }
   ],
   "source": [
    "train_generator = train_datagen.flow_from_directory(\n",
    "    train_dir, # 文件夹路径\n",
    "    target_size=(64, 64), # 指定resize层的大小\n",
    "    batch_size=20,\n",
    "    # 如果one_hot就是categorical，二分类用binary就可以\n",
    "    class_mode='binary'\n",
    ")\n",
    "test_generator = test_datagen.flow_from_directory(\n",
    "    test_dir, # 文件夹路径\n",
    "    target_size=(64, 64), # 指定resize层的大小\n",
    "    batch_size=20,\n",
    "    # 如果one_hot就是categorical，二分类用binary就可以\n",
    "    class_mode='binary'\n",
    ")"
   ]
  },
  {
   "cell_type": "code",
   "execution_count": 8,
   "metadata": {
    "scrolled": true
   },
   "outputs": [
    {
     "name": "stdout",
     "output_type": "stream",
     "text": [
      "Epoch 1/50\n",
      "200/200 - 22s - loss: 0.6861 - accuracy: 0.5495 - val_loss: 0.6749 - val_accuracy: 0.5555\n",
      "Epoch 2/50\n",
      "200/200 - 23s - loss: 0.6656 - accuracy: 0.5878 - val_loss: 0.6312 - val_accuracy: 0.6535\n",
      "Epoch 3/50\n",
      "200/200 - 23s - loss: 0.6556 - accuracy: 0.6040 - val_loss: 0.6188 - val_accuracy: 0.6640\n",
      "Epoch 4/50\n",
      "200/200 - 23s - loss: 0.6455 - accuracy: 0.6233 - val_loss: 0.6194 - val_accuracy: 0.6695\n",
      "Epoch 5/50\n",
      "200/200 - 23s - loss: 0.6361 - accuracy: 0.6346 - val_loss: 0.6017 - val_accuracy: 0.6790\n",
      "Epoch 6/50\n",
      "200/200 - 23s - loss: 0.6151 - accuracy: 0.6595 - val_loss: 0.5793 - val_accuracy: 0.7005\n",
      "Epoch 7/50\n",
      "200/200 - 24s - loss: 0.6136 - accuracy: 0.6622 - val_loss: 0.6114 - val_accuracy: 0.6670\n",
      "Epoch 8/50\n",
      "200/200 - 24s - loss: 0.6116 - accuracy: 0.6528 - val_loss: 0.5682 - val_accuracy: 0.7125\n",
      "Epoch 9/50\n",
      "200/200 - 24s - loss: 0.6039 - accuracy: 0.6752 - val_loss: 0.6021 - val_accuracy: 0.6830\n",
      "Epoch 10/50\n",
      "200/200 - 24s - loss: 0.5846 - accuracy: 0.6865 - val_loss: 0.5782 - val_accuracy: 0.6935\n",
      "Epoch 11/50\n",
      "200/200 - 24s - loss: 0.5849 - accuracy: 0.6875 - val_loss: 0.5276 - val_accuracy: 0.7385\n",
      "Epoch 12/50\n",
      "200/200 - 24s - loss: 0.5864 - accuracy: 0.6830 - val_loss: 0.5566 - val_accuracy: 0.7015\n",
      "Epoch 13/50\n",
      "200/200 - 24s - loss: 0.5701 - accuracy: 0.7078 - val_loss: 0.5128 - val_accuracy: 0.7530\n",
      "Epoch 14/50\n",
      "200/200 - 24s - loss: 0.5766 - accuracy: 0.6890 - val_loss: 0.5207 - val_accuracy: 0.7475\n",
      "Epoch 15/50\n",
      "200/200 - 24s - loss: 0.5678 - accuracy: 0.7013 - val_loss: 0.4932 - val_accuracy: 0.7685\n",
      "Epoch 16/50\n",
      "200/200 - 25s - loss: 0.5614 - accuracy: 0.7080 - val_loss: 0.5421 - val_accuracy: 0.7210\n",
      "Epoch 17/50\n",
      "200/200 - 24s - loss: 0.5649 - accuracy: 0.7090 - val_loss: 0.5531 - val_accuracy: 0.7165\n",
      "Epoch 18/50\n",
      "200/200 - 24s - loss: 0.5475 - accuracy: 0.7180 - val_loss: 0.5032 - val_accuracy: 0.7535\n",
      "Epoch 19/50\n",
      "200/200 - 25s - loss: 0.5468 - accuracy: 0.7275 - val_loss: 0.4995 - val_accuracy: 0.7545\n",
      "Epoch 20/50\n",
      "200/200 - 26s - loss: 0.5490 - accuracy: 0.7220 - val_loss: 0.5474 - val_accuracy: 0.7140\n",
      "Epoch 21/50\n",
      "200/200 - 25s - loss: 0.5398 - accuracy: 0.7291 - val_loss: 0.4780 - val_accuracy: 0.7825\n",
      "Epoch 22/50\n",
      "200/200 - 26s - loss: 0.5441 - accuracy: 0.7261 - val_loss: 0.4943 - val_accuracy: 0.7580\n",
      "Epoch 23/50\n",
      "200/200 - 24s - loss: 0.5391 - accuracy: 0.7290 - val_loss: 0.4835 - val_accuracy: 0.7665\n",
      "Epoch 24/50\n",
      "200/200 - 25s - loss: 0.5365 - accuracy: 0.7303 - val_loss: 0.4788 - val_accuracy: 0.7730\n",
      "Epoch 25/50\n",
      "200/200 - 24s - loss: 0.5331 - accuracy: 0.7272 - val_loss: 0.5164 - val_accuracy: 0.7485\n",
      "Epoch 26/50\n",
      "200/200 - 24s - loss: 0.5287 - accuracy: 0.7309 - val_loss: 0.4728 - val_accuracy: 0.7755\n",
      "Epoch 27/50\n",
      "200/200 - 24s - loss: 0.5397 - accuracy: 0.7278 - val_loss: 0.5350 - val_accuracy: 0.7320\n",
      "Epoch 28/50\n",
      "200/200 - 25s - loss: 0.5249 - accuracy: 0.7306 - val_loss: 0.4855 - val_accuracy: 0.7705\n",
      "Epoch 29/50\n",
      "200/200 - 25s - loss: 0.5104 - accuracy: 0.7461 - val_loss: 0.4937 - val_accuracy: 0.7525\n",
      "Epoch 30/50\n",
      "200/200 - 26s - loss: 0.5206 - accuracy: 0.7339 - val_loss: 0.4826 - val_accuracy: 0.7600\n",
      "Epoch 31/50\n",
      "200/200 - 24s - loss: 0.5120 - accuracy: 0.7435 - val_loss: 0.4580 - val_accuracy: 0.7855\n",
      "Epoch 32/50\n",
      "200/200 - 24s - loss: 0.5005 - accuracy: 0.7575 - val_loss: 0.5073 - val_accuracy: 0.7550\n",
      "Epoch 33/50\n",
      "200/200 - 24s - loss: 0.5233 - accuracy: 0.7381 - val_loss: 0.4625 - val_accuracy: 0.7825\n",
      "Epoch 34/50\n",
      "200/200 - 24s - loss: 0.5251 - accuracy: 0.7345 - val_loss: 0.4471 - val_accuracy: 0.7970\n",
      "Epoch 35/50\n",
      "200/200 - 26s - loss: 0.5000 - accuracy: 0.7530 - val_loss: 0.4691 - val_accuracy: 0.7710\n",
      "Epoch 36/50\n",
      "200/200 - 26s - loss: 0.5019 - accuracy: 0.7558 - val_loss: 0.4402 - val_accuracy: 0.7955\n",
      "Epoch 37/50\n",
      "200/200 - 26s - loss: 0.4980 - accuracy: 0.7455 - val_loss: 0.5258 - val_accuracy: 0.7335\n",
      "Epoch 38/50\n",
      "200/200 - 26s - loss: 0.5080 - accuracy: 0.7513 - val_loss: 0.4463 - val_accuracy: 0.7985\n",
      "Epoch 39/50\n",
      "200/200 - 34s - loss: 0.4967 - accuracy: 0.7541 - val_loss: 0.4344 - val_accuracy: 0.8060\n",
      "Epoch 40/50\n",
      "200/200 - 52s - loss: 0.5020 - accuracy: 0.7492 - val_loss: 0.4496 - val_accuracy: 0.7940\n",
      "Epoch 41/50\n",
      "200/200 - 69s - loss: 0.4962 - accuracy: 0.7520 - val_loss: 0.4785 - val_accuracy: 0.7720\n",
      "Epoch 42/50\n",
      "200/200 - 64s - loss: 0.4932 - accuracy: 0.7617 - val_loss: 0.4313 - val_accuracy: 0.8020\n",
      "Epoch 43/50\n",
      "200/200 - 61s - loss: 0.4907 - accuracy: 0.7611 - val_loss: 0.5225 - val_accuracy: 0.7265\n",
      "Epoch 44/50\n",
      "200/200 - 60s - loss: 0.4767 - accuracy: 0.7722 - val_loss: 0.4375 - val_accuracy: 0.7925\n",
      "Epoch 45/50\n",
      "200/200 - 60s - loss: 0.4924 - accuracy: 0.7640 - val_loss: 0.4308 - val_accuracy: 0.7990\n",
      "Epoch 46/50\n",
      "200/200 - 59s - loss: 0.4826 - accuracy: 0.7599 - val_loss: 0.4266 - val_accuracy: 0.8035\n",
      "Epoch 47/50\n",
      "200/200 - 59s - loss: 0.4711 - accuracy: 0.7692 - val_loss: 0.4146 - val_accuracy: 0.8105\n",
      "Epoch 48/50\n",
      "200/200 - 66s - loss: 0.4847 - accuracy: 0.7675 - val_loss: 0.4211 - val_accuracy: 0.8055\n",
      "Epoch 49/50\n",
      "200/200 - 59s - loss: 0.4765 - accuracy: 0.7730 - val_loss: 0.4760 - val_accuracy: 0.7770\n",
      "Epoch 50/50\n",
      "200/200 - 67s - loss: 0.4742 - accuracy: 0.7722 - val_loss: 0.4075 - val_accuracy: 0.8170\n"
     ]
    }
   ],
   "source": [
    "history = model.fit_generator(\n",
    "    train_generator,\n",
    "    steps_per_epoch=200,\n",
    "    epochs=50,\n",
    "    validation_data=test_generator,\n",
    "    validation_steps=100,\n",
    "    verbose=2\n",
    ")"
   ]
  },
  {
   "cell_type": "code",
   "execution_count": 9,
   "metadata": {},
   "outputs": [
    {
     "data": {
      "image/png": "[encoded data removed]",
      "text/plain": [
       "<Figure size 432x288 with 1 Axes>"
      ]
     },
     "metadata": {
      "needs_background": "light"
     },
     "output_type": "display_data"
    },
    {
     "data": {
      "image/png": "[encoded data removed]",
      "text/plain": [
       "<Figure size 432x288 with 1 Axes>"
      ]
     },
     "metadata": {
      "needs_background": "light"
     },
     "output_type": "display_data"
    }
   ],
   "source": [
    "import matplotlib.pyplot as plt\n",
    "acc = history.history['accuracy']\n",
    "val_acc = history.history['val_accuracy']\n",
    "loss = history.history['loss']\n",
    "val_loss = history.history['val_loss']\n",
    "\n",
    "epochs = range(len(acc))\n",
    "\n",
    "\n",
    "plt.plot(epochs, acc, \"bo\", label='train accuracy')\n",
    "plt.plot(epochs, val_acc, 'b', label='test accuracy')\n",
    "\n",
    "plt.figure()\n",
    "plt.plot(epochs, loss, \"bo\", label='train loss')\n",
    "plt.plot(epochs, val_loss, 'b', label='test loss')\n",
    "\n",
    "plt.title('accuracy and loss')\n",
    "plt.legend()\n",
    "plt.show()"
   ]
  },
  {
   "cell_type": "code",
   "execution_count": 10,
   "metadata": {},
   "outputs": [],
   "source": [
    "model2 = tf.keras.models.Sequential([\n",
    "    # 如果训练慢，可以数据设置的更小一些\n",
    "    # 得到filter32个特征图，卷积核3*3，默认激活层直接加relu，input_data输入大小\n",
    "    tf.keras.layers.Conv2D(32, (3, 3), activation='relu', input_shape=(64, 64, 3)),\n",
    "    # 池化层一般都是2*2，基本不改\n",
    "    tf.keras.layers.MaxPooling2D(2, 2),\n",
    "    \n",
    "    tf.keras.layers.Conv2D(64, (3, 3), activation='relu'),\n",
    "    tf.keras.layers.MaxPooling2D(2, 2),\n",
    "    \n",
    "    tf.keras.layers.Conv2D(128, (3, 3), activation='relu'),\n",
    "    tf.keras.layers.MaxPooling2D(2, 2),\n",
    "    \n",
    "    \n",
    "    # 为全连接层做准备\n",
    "    tf.keras.layers.Flatten(),\n",
    "    \n",
    "    tf.keras.layers.Dense(512, activation='relu'),\n",
    "    tf.keras.layers.Dropout(0.5),\n",
    "    # 二分类digmoid就够了，输出0-1之间的概率值\n",
    "    tf.keras.layers.Dense(1, activation='sigmoid')\n",
    "])"
   ]
  },
  {
   "cell_type": "code",
   "execution_count": 12,
   "metadata": {},
   "outputs": [],
   "source": [
    "model2.compile(loss='binary_crossentropy',\n",
    "              optimizer=Adam(lr=1e-4),\n",
    "              metrics=['accuracy']\n",
    "            )"
   ]
  },
  {
   "cell_type": "code",
   "execution_count": 13,
   "metadata": {
    "scrolled": true
   },
   "outputs": [
    {
     "name": "stdout",
     "output_type": "stream",
     "text": [
      "Epoch 1/50\n",
      "200/200 - 73s - loss: 0.6934 - accuracy: 0.5120 - val_loss: 0.6850 - val_accuracy: 0.5645\n",
      "Epoch 2/50\n",
      "200/200 - 60s - loss: 0.6852 - accuracy: 0.5625 - val_loss: 0.6766 - val_accuracy: 0.5380\n",
      "Epoch 3/50\n",
      "200/200 - 66s - loss: 0.6629 - accuracy: 0.6037 - val_loss: 0.6929 - val_accuracy: 0.5610\n",
      "Epoch 4/50\n",
      "200/200 - 64s - loss: 0.6543 - accuracy: 0.6196 - val_loss: 0.6658 - val_accuracy: 0.5890\n",
      "Epoch 5/50\n",
      "200/200 - 63s - loss: 0.6472 - accuracy: 0.6230 - val_loss: 0.6630 - val_accuracy: 0.6055\n",
      "Epoch 6/50\n",
      "200/200 - 62s - loss: 0.6205 - accuracy: 0.6467 - val_loss: 0.6104 - val_accuracy: 0.6715\n",
      "Epoch 7/50\n",
      "200/200 - 64s - loss: 0.6294 - accuracy: 0.6385 - val_loss: 0.6040 - val_accuracy: 0.6710\n",
      "Epoch 8/50\n",
      "200/200 - 73s - loss: 0.6164 - accuracy: 0.6565 - val_loss: 0.6262 - val_accuracy: 0.6605\n",
      "Epoch 9/50\n",
      "200/200 - 64s - loss: 0.6119 - accuracy: 0.6678 - val_loss: 0.5655 - val_accuracy: 0.7255\n",
      "Epoch 10/50\n",
      "200/200 - 59s - loss: 0.6029 - accuracy: 0.6693 - val_loss: 0.5580 - val_accuracy: 0.7165\n",
      "Epoch 11/50\n",
      "200/200 - 58s - loss: 0.5801 - accuracy: 0.6886 - val_loss: 0.6020 - val_accuracy: 0.6835\n",
      "Epoch 12/50\n",
      "200/200 - 61s - loss: 0.5857 - accuracy: 0.6825 - val_loss: 0.5847 - val_accuracy: 0.6915\n",
      "Epoch 13/50\n",
      "200/200 - 63s - loss: 0.5859 - accuracy: 0.6900 - val_loss: 0.5482 - val_accuracy: 0.7210\n",
      "Epoch 14/50\n",
      "200/200 - 75s - loss: 0.5737 - accuracy: 0.7010 - val_loss: 0.5466 - val_accuracy: 0.7170\n",
      "Epoch 15/50\n",
      "200/200 - 78s - loss: 0.5795 - accuracy: 0.6963 - val_loss: 0.5261 - val_accuracy: 0.7480\n",
      "Epoch 16/50\n",
      "200/200 - 67s - loss: 0.5662 - accuracy: 0.7090 - val_loss: 0.6195 - val_accuracy: 0.6590\n",
      "Epoch 17/50\n",
      "200/200 - 63s - loss: 0.5652 - accuracy: 0.7009 - val_loss: 0.5313 - val_accuracy: 0.7325\n",
      "Epoch 18/50\n",
      "200/200 - 62s - loss: 0.5607 - accuracy: 0.7050 - val_loss: 0.5308 - val_accuracy: 0.7345\n",
      "Epoch 19/50\n",
      "200/200 - 66s - loss: 0.5466 - accuracy: 0.7131 - val_loss: 0.4964 - val_accuracy: 0.7700\n",
      "Epoch 20/50\n",
      "200/200 - 66s - loss: 0.5554 - accuracy: 0.7161 - val_loss: 0.5544 - val_accuracy: 0.7095\n",
      "Epoch 21/50\n",
      "200/200 - 65s - loss: 0.5513 - accuracy: 0.7150 - val_loss: 0.4993 - val_accuracy: 0.7655\n",
      "Epoch 22/50\n",
      "200/200 - 66s - loss: 0.5330 - accuracy: 0.7344 - val_loss: 0.4935 - val_accuracy: 0.7635\n",
      "Epoch 23/50\n",
      "200/200 - 69s - loss: 0.5363 - accuracy: 0.7289 - val_loss: 0.5149 - val_accuracy: 0.7510\n",
      "Epoch 24/50\n",
      "200/200 - 62s - loss: 0.5626 - accuracy: 0.7063 - val_loss: 0.4919 - val_accuracy: 0.7685\n",
      "Epoch 25/50\n",
      "200/200 - 67s - loss: 0.5360 - accuracy: 0.7322 - val_loss: 0.5652 - val_accuracy: 0.7120\n",
      "Epoch 26/50\n",
      "200/200 - 64s - loss: 0.5538 - accuracy: 0.7150 - val_loss: 0.4874 - val_accuracy: 0.7665\n",
      "Epoch 27/50\n",
      "200/200 - 60s - loss: 0.5300 - accuracy: 0.7295 - val_loss: 0.4766 - val_accuracy: 0.7730\n",
      "Epoch 28/50\n",
      "200/200 - 62s - loss: 0.5340 - accuracy: 0.7258 - val_loss: 0.5021 - val_accuracy: 0.7490\n",
      "Epoch 29/50\n",
      "200/200 - 65s - loss: 0.5238 - accuracy: 0.7347 - val_loss: 0.4891 - val_accuracy: 0.7660\n",
      "Epoch 30/50\n",
      "200/200 - 59s - loss: 0.5316 - accuracy: 0.7271 - val_loss: 0.4819 - val_accuracy: 0.7740\n",
      "Epoch 31/50\n",
      "200/200 - 59s - loss: 0.5234 - accuracy: 0.7412 - val_loss: 0.5005 - val_accuracy: 0.7640\n",
      "Epoch 32/50\n",
      "200/200 - 60s - loss: 0.5188 - accuracy: 0.7442 - val_loss: 0.4958 - val_accuracy: 0.7625\n",
      "Epoch 33/50\n",
      "200/200 - 59s - loss: 0.5090 - accuracy: 0.7495 - val_loss: 0.4716 - val_accuracy: 0.7760\n",
      "Epoch 34/50\n",
      "200/200 - 58s - loss: 0.5252 - accuracy: 0.7400 - val_loss: 0.5123 - val_accuracy: 0.7460\n",
      "Epoch 35/50\n",
      "200/200 - 61s - loss: 0.5167 - accuracy: 0.7437 - val_loss: 0.4581 - val_accuracy: 0.7875\n",
      "Epoch 36/50\n",
      "200/200 - 59s - loss: 0.5274 - accuracy: 0.7293 - val_loss: 0.4547 - val_accuracy: 0.7850\n",
      "Epoch 37/50\n",
      "200/200 - 60s - loss: 0.5044 - accuracy: 0.7560 - val_loss: 0.4563 - val_accuracy: 0.7865\n",
      "Epoch 38/50\n",
      "200/200 - 61s - loss: 0.5089 - accuracy: 0.7550 - val_loss: 0.4349 - val_accuracy: 0.7940\n",
      "Epoch 39/50\n",
      "200/200 - 59s - loss: 0.5154 - accuracy: 0.7462 - val_loss: 0.4470 - val_accuracy: 0.7990\n",
      "Epoch 40/50\n",
      "200/200 - 60s - loss: 0.5069 - accuracy: 0.7545 - val_loss: 0.5400 - val_accuracy: 0.7125\n",
      "Epoch 41/50\n",
      "200/200 - 61s - loss: 0.5003 - accuracy: 0.7533 - val_loss: 0.4569 - val_accuracy: 0.7855\n",
      "Epoch 42/50\n",
      "200/200 - 60s - loss: 0.4987 - accuracy: 0.7591 - val_loss: 0.4625 - val_accuracy: 0.7785\n",
      "Epoch 43/50\n",
      "200/200 - 63s - loss: 0.4905 - accuracy: 0.7580 - val_loss: 0.4350 - val_accuracy: 0.8025\n",
      "Epoch 44/50\n",
      "200/200 - 70s - loss: 0.4942 - accuracy: 0.7635 - val_loss: 0.4807 - val_accuracy: 0.7590\n",
      "Epoch 45/50\n",
      "200/200 - 62s - loss: 0.4846 - accuracy: 0.7665 - val_loss: 0.4807 - val_accuracy: 0.7670\n",
      "Epoch 46/50\n",
      "200/200 - 60s - loss: 0.5018 - accuracy: 0.7527 - val_loss: 0.4410 - val_accuracy: 0.7955\n",
      "Epoch 47/50\n",
      "200/200 - 60s - loss: 0.4877 - accuracy: 0.7620 - val_loss: 0.5341 - val_accuracy: 0.7405\n",
      "Epoch 48/50\n",
      "200/200 - 59s - loss: 0.4911 - accuracy: 0.7635 - val_loss: 0.4515 - val_accuracy: 0.7935\n",
      "Epoch 49/50\n",
      "200/200 - 66s - loss: 0.4833 - accuracy: 0.7628 - val_loss: 0.4265 - val_accuracy: 0.8060\n",
      "Epoch 50/50\n",
      "200/200 - 68s - loss: 0.4937 - accuracy: 0.7577 - val_loss: 0.4258 - val_accuracy: 0.8120\n"
     ]
    }
   ],
   "source": [
    "history2 = model2.fit_generator(\n",
    "    train_generator,\n",
    "    steps_per_epoch=200,\n",
    "    epochs=50,\n",
    "    validation_data=test_generator,\n",
    "    validation_steps=100,\n",
    "    verbose=2\n",
    ")"
   ]
  },
  {
   "cell_type": "code",
   "execution_count": 14,
   "metadata": {},
   "outputs": [
    {
     "data": {
      "image/png": "[encoded data removed]",
      "text/plain": [
       "<Figure size 432x288 with 1 Axes>"
      ]
     },
     "metadata": {
      "needs_background": "light"
     },
     "output_type": "display_data"
    },
    {
     "data": {
      "image/png": "[encoded data removed]",
      "text/plain": [
       "<Figure size 432x288 with 1 Axes>"
      ]
     },
     "metadata": {
      "needs_background": "light"
     },
     "output_type": "display_data"
    }
   ],
   "source": [
    "import matplotlib.pyplot as plt\n",
    "acc = history2.history['accuracy']\n",
    "val_acc = history2.history['val_accuracy']\n",
    "loss = history2.history['loss']\n",
    "val_loss = history2.history['val_loss']\n",
    "\n",
    "epochs = range(len(acc))\n",
    "\n",
    "\n",
    "plt.plot(epochs, acc, \"bo\", label='train accuracy')\n",
    "plt.plot(epochs, val_acc, 'b', label='test accuracy')\n",
    "\n",
    "plt.figure()\n",
    "plt.plot(epochs, loss, \"bo\", label='train loss')\n",
    "plt.plot(epochs, val_loss, 'b', label='test loss')\n",
    "\n",
    "plt.title('accuracy and loss')\n",
    "plt.legend()\n",
    "plt.show()"
   ]
  },
  {
   "cell_type": "code",
   "execution_count": null,
   "metadata": {},
   "outputs": [],
   "source": []
  }
 ],
 "metadata": {
  "kernelspec": {
   "display_name": "tf",
   "language": "python",
   "name": "tf"
  },
  "language_info": {
   "codemirror_mode": {
    "name": "ipython",
    "version": 3
   },
   "file_extension": ".py",
   "mimetype": "text/x-python",
   "name": "python",
   "nbconvert_exporter": "python",
   "pygments_lexer": "ipython3",
   "version": "3.8.0"
  }
 },
 "nbformat": 4,
 "nbformat_minor": 4
}
